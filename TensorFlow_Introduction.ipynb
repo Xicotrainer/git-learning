{
  "cells": [
    {
      "cell_type": "markdown",
      "metadata": {
        "colab_type": "text",
        "id": "view-in-github"
      },
      "source": [
        "<a href=\"https://colab.research.google.com/github/Xicotrainer/git-learning/blob/master/TensorFlow_Introduction.ipynb\" target=\"_parent\"><img src=\"https://colab.research.google.com/assets/colab-badge.svg\" alt=\"Open In Colab\"/></a>"
      ]
    },
    {
      "cell_type": "markdown",
      "metadata": {
        "id": "-5u3a4csUPyn"
      },
      "source": [
        "#TensorFlow 2.0 Introduction\n",
        "In this notebook you will be given an interactive introduction to TensorFlow 2.0. We will walk through the following topics within the TensorFlow module:\n",
        "\n",
        "- TensorFlow Install and Setup\n",
        "- Representing Tensors\n",
        "- Tensor Shape and Rank\n",
        "- Types of Tensors\n",
        "\n",
        "\n",
        "If you'd like to follow along without installing TensorFlow on your machine you can use **Google Collaboratory**. Collaboratory is a free Jupyter notebook environment that requires no setup and runs entirely in the cloud."
      ]
    },
    {
      "cell_type": "markdown",
      "metadata": {
        "id": "F7ThfbiQl96l"
      },
      "source": [
        "##Installing TensorFlow\n",
        "To install TensorFlow on your local machine you can use pip.\n",
        "```console\n",
        "pip install tensorflow\n",
        "```"
      ]
    },
    {
      "cell_type": "markdown",
      "metadata": {
        "id": "JYQWyAJ2mez6"
      },
      "source": [
        "![alt text](https://)If you have a CUDA enabled GPU you can install the GPU version of TensorFlow. You will also need to install some other software which can be found here: https://www.tensorflow.org/install/gpu \n",
        "```console\n",
        "pip install tensorflow-gpu\n",
        "```"
      ]
    },
    {
      "cell_type": "markdown",
      "metadata": {
        "id": "JJjNMaSClWhg"
      },
      "source": [
        "## Importing TensorFlow\n",
        "The first step here is going to be to select the correct version of TensorFlow from within collabratory!\n"
      ]
    },
    {
      "cell_type": "code",
      "execution_count": null,
      "metadata": {
        "id": "vGcE8x2Gkw9K"
      },
      "outputs": [],
      "source": [
        "%tensorflow_version 2.x  # this line is not required unless you are in a notebook"
      ]
    },
    {
      "cell_type": "code",
      "execution_count": null,
      "metadata": {
        "id": "4N7XbNDVY8P3"
      },
      "outputs": [],
      "source": [
        "import tensorflow as tf  # now import the tensorflow module\n",
        "print(tf.version)  # make sure the version is 2.x"
      ]
    },
    {
      "cell_type": "markdown",
      "metadata": {
        "id": "duDj86TfWFof"
      },
      "source": [
        "##Tensors \n",
        "\"A tensor is a generalization of vectors and matrices to potentially higher dimensions. Internally, TensorFlow represents tensors as n-dimensional arrays of base datatypes.\" (https://www.tensorflow.org/guide/tensor)\n",
        "\n",
        "It should't surprise you that tensors are a fundemental apsect of TensorFlow. They are the main objects that are passed around and manipluated throughout the program. Each tensor represents a partialy defined computation that will eventually produce a value. TensorFlow programs work by building a graph of Tensor objects that details how tensors are related. Running different parts of the graph allow results to be generated.\n",
        "\n",
        "Each tensor has a data type and a shape. \n",
        "\n",
        "**Data Types Include**: float32, int32, string and others.\n",
        "\n",
        "**Shape**: Represents the dimension of data.\n",
        "\n",
        "Just like vectors and matrices tensors can have operations applied to them like addition, subtraction, dot product, cross product etc.\n",
        "\n",
        "In the next sections we will discuss some different properties of tensors. This is to make you more familiar with how tensorflow represnts data and how you can manipulate this data.\n"
      ]
    },
    {
      "cell_type": "markdown",
      "metadata": {
        "id": "TAk6QhGUwQRt"
      },
      "source": [
        "###Creating Tensors\n",
        "Below is an example of how to create some different tensors.\n",
        "\n",
        "You simply define the value of the tensor and the datatype and you are good to go! It's worth mentioning that usually we deal with tensors of numeric data, it is quite rare to see string tensors.\n",
        "\n",
        "For a full list of datatypes please refer to the following guide.\n",
        "\n",
        "https://www.tensorflow.org/api_docs/python/tf/dtypes/DType?version=stable"
      ]
    },
    {
      "cell_type": "code",
      "execution_count": null,
      "metadata": {
        "id": "epGskXdjZHzu"
      },
      "outputs": [],
      "source": [
        "string = tf.Variable(\"this is a string\", tf.string) \n",
        "number = tf.Variable(324, tf.int16)\n",
        "floating = tf.Variable(3.567, tf.float64)"
      ]
    },
    {
      "cell_type": "markdown",
      "metadata": {
        "id": "D0_H71HMaE-5"
      },
      "source": [
        "###Rank/Degree of Tensors\n",
        "Another word for rank is degree, these terms simply mean the number of dimensions involved in the tensor. What we created above is a *tensor of rank 0*, also known as a scalar. \n",
        "\n",
        "Now we'll create some tensors of higher degrees/ranks."
      ]
    },
    {
      "cell_type": "code",
      "execution_count": null,
      "metadata": {
        "id": "hX_Cc5IfjQ6-"
      },
      "outputs": [],
      "source": [
        "rank1_tensor = tf.Variable([\"Test\"], tf.string) \n",
        "rank2_tensor = tf.Variable([[\"test\", \"ok\"], [\"test\", \"yes\"]], tf.string)"
      ]
    },
    {
      "cell_type": "markdown",
      "metadata": {
        "id": "55zuGMc7nHjC"
      },
      "source": [
        "**To determine the rank** of a tensor we can call the following method."
      ]
    },
    {
      "cell_type": "code",
      "execution_count": null,
      "metadata": {
        "colab": {
          "base_uri": "https://localhost:8080/",
          "height": 34
        },
        "id": "Zrj0rAWLnMNv",
        "outputId": "b8b34a8c-fc6e-40c6-9fd6-294d1253631e"
      },
      "outputs": [
        {
          "data": {
            "text/plain": [
              "<tf.Tensor: shape=(), dtype=int32, numpy=2>"
            ]
          },
          "execution_count": 19,
          "metadata": {
            "tags": []
          },
          "output_type": "execute_result"
        }
      ],
      "source": [
        "tf.rank(rank2_tensor)"
      ]
    },
    {
      "cell_type": "markdown",
      "metadata": {
        "id": "hTv4Gz67pQbx"
      },
      "source": [
        "The rank of a tensor is direclty related to the deepest level of nested lists. You can see in the first example ```[\"Test\"]``` is a rank 1 tensor as the deepest level of nesting is 1. \n",
        "Where in the second example ```[[\"test\", \"ok\"], [\"test\", \"yes\"]]``` is a rank 2 tensor as the deepest level of nesting is 2."
      ]
    },
    {
      "cell_type": "markdown",
      "metadata": {
        "id": "RaVrANK8q21q"
      },
      "source": [
        "###Shape of Tensors\n",
        "Now that we've talked about the rank of tensors it's time to talk about the shape. The shape of a tensor is simply the number of elements that exist in each dimension. TensorFlow will try to determine the shape of a tensor but sometimes it may be unknown.\n",
        "\n",
        "To **get the shape** of a tensor we use the shape attribute.\n"
      ]
    },
    {
      "cell_type": "code",
      "execution_count": null,
      "metadata": {
        "id": "L_NRXsFOraYa"
      },
      "outputs": [],
      "source": [
        "rank2_tensor.shape"
      ]
    },
    {
      "cell_type": "markdown",
      "metadata": {
        "id": "wVDmLJeFs086"
      },
      "source": [
        "###Changing Shape\n",
        "The number of elements of a tensor is the product of the sizes of all its shapes. There are often many shapes that have the same number of elements, making it convient to be able to change the shape of a tensor.\n",
        "\n",
        "The example below shows how to change the shape of a tensor."
      ]
    },
    {
      "cell_type": "code",
      "execution_count": null,
      "metadata": {
        "id": "dZ8Rbs2xtNqj"
      },
      "outputs": [],
      "source": [
        "tensor1 = tf.ones([1,2,3])  # tf.ones() creates a shape [1,2,3] tensor full of ones\n",
        "tensor2 = tf.reshape(tensor1, [2,3,1])  # reshape existing data to shape [2,3,1]\n",
        "tensor3 = tf.reshape(tensor2, [3, -1])  # -1 tells the tensor to calculate the size of the dimension in that place\n",
        "                                        # this will reshape the tensor to [3,3]\n",
        "                                                                             \n",
        "# The numer of elements in the reshaped tensor MUST match the number in the original"
      ]
    },
    {
      "cell_type": "markdown",
      "metadata": {
        "id": "M631k7UDv1Wh"
      },
      "source": [
        "Now let's have a look at our different tensors."
      ]
    },
    {
      "cell_type": "code",
      "execution_count": null,
      "metadata": {
        "id": "IFNmUxaEv6s3"
      },
      "outputs": [],
      "source": [
        "print(tensor1)\n",
        "print(tensor2)\n",
        "print(tensor3)\n",
        "# Notice the changes in shape"
      ]
    },
    {
      "cell_type": "markdown",
      "metadata": {
        "id": "q88pJucBolsp"
      },
      "source": [
        "###Slicing Tensors\n",
        "You may be familiar with the term \"slice\" in python and its use on lists, tuples etc. Well the slice operator can be used on tensors to select specific axes or elements.\n",
        "\n",
        "When we slice or select elements from a tensor, we can use comma seperated values inside the set of square brackets. Each subsequent value refrences a different dimension of the tensor.\n",
        "\n",
        "Ex: ```tensor[dim1, dim2, dim3]```\n",
        "\n",
        "I've included a few examples that will hopefully help illustrate how we can manipulate tensors with the slice operator."
      ]
    },
    {
      "cell_type": "code",
      "execution_count": null,
      "metadata": {
        "id": "b0YrD-hRqD-W"
      },
      "outputs": [],
      "source": [
        "# Creating a 2D tensor\n",
        "matrix = [[1,2,3,4,5],\n",
        "          [6,7,8,9,10],\n",
        "          [11,12,13,14,15],\n",
        "          [16,17,18,19,20]]\n",
        "\n",
        "tensor = tf.Variable(matrix, dtype=tf.int32) \n",
        "print(tf.rank(tensor))\n",
        "print(tensor.shape)"
      ]
    },
    {
      "cell_type": "code",
      "execution_count": null,
      "metadata": {
        "id": "Wd85uGI7qyfC"
      },
      "outputs": [],
      "source": [
        "# Now lets select some different rows and columns from our tensor\n",
        "\n",
        "three = tensor[0,2]  # selects the 3rd element from the 1st row\n",
        "print(three)  # -> 3\n",
        "\n",
        "row1 = tensor[0]  # selects the first row\n",
        "print(row1)\n",
        "\n",
        "column1 = tensor[:, 0]  # selects the first column\n",
        "print(column1)\n",
        "\n",
        "row_2_and_4 = tensor[1::2]  # selects second and fourth row\n",
        "print(row2and4)\n",
        "\n",
        "column_1_in_row_2_and_3 = tensor[1:3, 0]\n",
        "print(column_1_in_row_2_and_3)\n"
      ]
    },
    {
      "cell_type": "markdown",
      "metadata": {
        "id": "UU4MMhB_rxvz"
      },
      "source": [
        "###Types of Tensors\n",
        "Before we go to far, I will mention that there are diffent types of tensors. These are the most used and we will talk more in depth about each as they are used.\n",
        "- Variable\n",
        "- Constant\n",
        "- Placeholder\n",
        "- SparseTensor\n",
        "\n",
        "With the execption of ```Variable``` all these tensors are immuttable, meaning their value may not change during execution.\n",
        "\n",
        "For now, it is enough to understand that we use the Variable tensor when we want to potentially change the value of our tensor.\n",
        "\n"
      ]
    },
    {
      "cell_type": "markdown",
      "metadata": {
        "id": "F2OoXbe7aSVl"
      },
      "source": [
        "#Sources\n",
        "Most of the information is taken direclty from the TensorFlow website which can be found below.\n",
        "\n",
        "https://www.tensorflow.org/guide/tensor"
      ]
    },
    {
      "cell_type": "code",
      "execution_count": null,
      "metadata": {},
      "outputs": [],
      "source": []
    },
    {
      "cell_type": "code",
      "execution_count": null,
      "metadata": {},
      "outputs": [],
      "source": []
    },
    {
      "cell_type": "code",
      "execution_count": null,
      "metadata": {},
      "outputs": [
        {
          "ename": "",
          "evalue": "",
          "output_type": "error",
          "traceback": [
            "\u001b[1;31mJupyter cannot be started. Error attempting to locate jupyter: Running cells with 'Python 3.8.10 64-bit' requires jupyter and notebook package.\n",
            "Run the following command to install 'jupyter and notebook' into the Python environment. \n",
            "Command: '/bin/python3 -m pip install jupyter notebook -U'"
          ]
        }
      ],
      "source": [
        "%tensorflow_version 2.x\n",
        "import tensorflow as tf\n",
        "print(tf.version)"
      ]
    },
    {
      "cell_type": "code",
      "execution_count": 8,
      "metadata": {},
      "outputs": [
        {
          "data": {
            "text/plain": [
              "10"
            ]
          },
          "execution_count": 8,
          "metadata": {},
          "output_type": "execute_result"
        }
      ],
      "source": [
        "condition = True\n",
        "x = 10 if condition else 11\n",
        "x"
      ]
    },
    {
      "cell_type": "code",
      "execution_count": 4,
      "metadata": {},
      "outputs": [
        {
          "data": {
            "text/plain": [
              "101000000"
            ]
          },
          "execution_count": 4,
          "metadata": {},
          "output_type": "execute_result"
        }
      ],
      "source": [
        "num1 = 1000_000\n",
        "num2 = 100_000_000\n",
        "num1 + num2"
      ]
    },
    {
      "cell_type": "code",
      "execution_count": 5,
      "metadata": {},
      "outputs": [
        {
          "name": "stdout",
          "output_type": "stream",
          "text": [
            "101,000,000\n"
          ]
        }
      ],
      "source": [
        "print(f'{num1 + num2:,}')"
      ]
    },
    {
      "cell_type": "code",
      "execution_count": 16,
      "metadata": {},
      "outputs": [
        {
          "name": "stdout",
          "output_type": "stream",
          "text": [
            "[0] 0.16958595873585536\n",
            "[1] 0.9611665752301772\n",
            "[2] 0.868489261326497\n",
            "[3] 0.16494173533249856\n",
            "[4] 0.3649812370238946\n",
            "[5] 0.540310730481771\n",
            "[6] 0.291390216948866\n",
            "[7] 0.820386489122165\n",
            "[8] 0.44544097795601123\n",
            "[9] 0.07045385661300607\n"
          ]
        }
      ],
      "source": [
        "import numpy as np\n",
        "arr = np.random.random(10,)\n",
        "\n",
        "for ind, rand in enumerate(arr):\n",
        "    print([ind], rand)\n"
      ]
    },
    {
      "cell_type": "code",
      "execution_count": 17,
      "metadata": {},
      "outputs": [
        {
          "data": {
            "text/plain": [
              "['ALLOW_THREADS',\n",
              " 'AxisError',\n",
              " 'BUFSIZE',\n",
              " 'CLIP',\n",
              " 'ComplexWarning',\n",
              " 'DataSource',\n",
              " 'ERR_CALL',\n",
              " 'ERR_DEFAULT',\n",
              " 'ERR_IGNORE',\n",
              " 'ERR_LOG',\n",
              " 'ERR_PRINT',\n",
              " 'ERR_RAISE',\n",
              " 'ERR_WARN',\n",
              " 'FLOATING_POINT_SUPPORT',\n",
              " 'FPE_DIVIDEBYZERO',\n",
              " 'FPE_INVALID',\n",
              " 'FPE_OVERFLOW',\n",
              " 'FPE_UNDERFLOW',\n",
              " 'False_',\n",
              " 'Inf',\n",
              " 'Infinity',\n",
              " 'MAXDIMS',\n",
              " 'MAY_SHARE_BOUNDS',\n",
              " 'MAY_SHARE_EXACT',\n",
              " 'ModuleDeprecationWarning',\n",
              " 'NAN',\n",
              " 'NINF',\n",
              " 'NZERO',\n",
              " 'NaN',\n",
              " 'PINF',\n",
              " 'PZERO',\n",
              " 'RAISE',\n",
              " 'RankWarning',\n",
              " 'SHIFT_DIVIDEBYZERO',\n",
              " 'SHIFT_INVALID',\n",
              " 'SHIFT_OVERFLOW',\n",
              " 'SHIFT_UNDERFLOW',\n",
              " 'ScalarType',\n",
              " 'Tester',\n",
              " 'TooHardError',\n",
              " 'True_',\n",
              " 'UFUNC_BUFSIZE_DEFAULT',\n",
              " 'UFUNC_PYVALS_NAME',\n",
              " 'VisibleDeprecationWarning',\n",
              " 'WRAP',\n",
              " '_CopyMode',\n",
              " '_NoValue',\n",
              " '_UFUNC_API',\n",
              " '__NUMPY_SETUP__',\n",
              " '__all__',\n",
              " '__builtins__',\n",
              " '__cached__',\n",
              " '__config__',\n",
              " '__deprecated_attrs__',\n",
              " '__dir__',\n",
              " '__doc__',\n",
              " '__expired_functions__',\n",
              " '__file__',\n",
              " '__getattr__',\n",
              " '__git_version__',\n",
              " '__loader__',\n",
              " '__name__',\n",
              " '__package__',\n",
              " '__path__',\n",
              " '__spec__',\n",
              " '__version__',\n",
              " '_add_newdoc_ufunc',\n",
              " '_distributor_init',\n",
              " '_financial_names',\n",
              " '_from_dlpack',\n",
              " '_globals',\n",
              " '_mat',\n",
              " '_pytesttester',\n",
              " '_version',\n",
              " 'abs',\n",
              " 'absolute',\n",
              " 'add',\n",
              " 'add_docstring',\n",
              " 'add_newdoc',\n",
              " 'add_newdoc_ufunc',\n",
              " 'alen',\n",
              " 'all',\n",
              " 'allclose',\n",
              " 'alltrue',\n",
              " 'amax',\n",
              " 'amin',\n",
              " 'angle',\n",
              " 'any',\n",
              " 'append',\n",
              " 'apply_along_axis',\n",
              " 'apply_over_axes',\n",
              " 'arange',\n",
              " 'arccos',\n",
              " 'arccosh',\n",
              " 'arcsin',\n",
              " 'arcsinh',\n",
              " 'arctan',\n",
              " 'arctan2',\n",
              " 'arctanh',\n",
              " 'argmax',\n",
              " 'argmin',\n",
              " 'argpartition',\n",
              " 'argsort',\n",
              " 'argwhere',\n",
              " 'around',\n",
              " 'array',\n",
              " 'array2string',\n",
              " 'array_equal',\n",
              " 'array_equiv',\n",
              " 'array_repr',\n",
              " 'array_split',\n",
              " 'array_str',\n",
              " 'asanyarray',\n",
              " 'asarray',\n",
              " 'asarray_chkfinite',\n",
              " 'ascontiguousarray',\n",
              " 'asfarray',\n",
              " 'asfortranarray',\n",
              " 'asmatrix',\n",
              " 'asscalar',\n",
              " 'atleast_1d',\n",
              " 'atleast_2d',\n",
              " 'atleast_3d',\n",
              " 'average',\n",
              " 'bartlett',\n",
              " 'base_repr',\n",
              " 'binary_repr',\n",
              " 'bincount',\n",
              " 'bitwise_and',\n",
              " 'bitwise_not',\n",
              " 'bitwise_or',\n",
              " 'bitwise_xor',\n",
              " 'blackman',\n",
              " 'block',\n",
              " 'bmat',\n",
              " 'bool8',\n",
              " 'bool_',\n",
              " 'broadcast',\n",
              " 'broadcast_arrays',\n",
              " 'broadcast_shapes',\n",
              " 'broadcast_to',\n",
              " 'busday_count',\n",
              " 'busday_offset',\n",
              " 'busdaycalendar',\n",
              " 'byte',\n",
              " 'byte_bounds',\n",
              " 'bytes0',\n",
              " 'bytes_',\n",
              " 'c_',\n",
              " 'can_cast',\n",
              " 'cast',\n",
              " 'cbrt',\n",
              " 'cdouble',\n",
              " 'ceil',\n",
              " 'cfloat',\n",
              " 'char',\n",
              " 'character',\n",
              " 'chararray',\n",
              " 'choose',\n",
              " 'clip',\n",
              " 'clongdouble',\n",
              " 'clongfloat',\n",
              " 'column_stack',\n",
              " 'common_type',\n",
              " 'compare_chararrays',\n",
              " 'compat',\n",
              " 'complex128',\n",
              " 'complex256',\n",
              " 'complex64',\n",
              " 'complex_',\n",
              " 'complexfloating',\n",
              " 'compress',\n",
              " 'concatenate',\n",
              " 'conj',\n",
              " 'conjugate',\n",
              " 'convolve',\n",
              " 'copy',\n",
              " 'copysign',\n",
              " 'copyto',\n",
              " 'core',\n",
              " 'corrcoef',\n",
              " 'correlate',\n",
              " 'cos',\n",
              " 'cosh',\n",
              " 'count_nonzero',\n",
              " 'cov',\n",
              " 'cross',\n",
              " 'csingle',\n",
              " 'ctypeslib',\n",
              " 'cumprod',\n",
              " 'cumproduct',\n",
              " 'cumsum',\n",
              " 'datetime64',\n",
              " 'datetime_as_string',\n",
              " 'datetime_data',\n",
              " 'deg2rad',\n",
              " 'degrees',\n",
              " 'delete',\n",
              " 'deprecate',\n",
              " 'deprecate_with_doc',\n",
              " 'diag',\n",
              " 'diag_indices',\n",
              " 'diag_indices_from',\n",
              " 'diagflat',\n",
              " 'diagonal',\n",
              " 'diff',\n",
              " 'digitize',\n",
              " 'disp',\n",
              " 'divide',\n",
              " 'divmod',\n",
              " 'dot',\n",
              " 'double',\n",
              " 'dsplit',\n",
              " 'dstack',\n",
              " 'dtype',\n",
              " 'e',\n",
              " 'ediff1d',\n",
              " 'einsum',\n",
              " 'einsum_path',\n",
              " 'emath',\n",
              " 'empty',\n",
              " 'empty_like',\n",
              " 'equal',\n",
              " 'errstate',\n",
              " 'euler_gamma',\n",
              " 'exp',\n",
              " 'exp2',\n",
              " 'expand_dims',\n",
              " 'expm1',\n",
              " 'extract',\n",
              " 'eye',\n",
              " 'fabs',\n",
              " 'fastCopyAndTranspose',\n",
              " 'fft',\n",
              " 'fill_diagonal',\n",
              " 'find_common_type',\n",
              " 'finfo',\n",
              " 'fix',\n",
              " 'flatiter',\n",
              " 'flatnonzero',\n",
              " 'flexible',\n",
              " 'flip',\n",
              " 'fliplr',\n",
              " 'flipud',\n",
              " 'float128',\n",
              " 'float16',\n",
              " 'float32',\n",
              " 'float64',\n",
              " 'float_',\n",
              " 'float_power',\n",
              " 'floating',\n",
              " 'floor',\n",
              " 'floor_divide',\n",
              " 'fmax',\n",
              " 'fmin',\n",
              " 'fmod',\n",
              " 'format_float_positional',\n",
              " 'format_float_scientific',\n",
              " 'format_parser',\n",
              " 'frexp',\n",
              " 'frombuffer',\n",
              " 'fromfile',\n",
              " 'fromfunction',\n",
              " 'fromiter',\n",
              " 'frompyfunc',\n",
              " 'fromregex',\n",
              " 'fromstring',\n",
              " 'full',\n",
              " 'full_like',\n",
              " 'gcd',\n",
              " 'generic',\n",
              " 'genfromtxt',\n",
              " 'geomspace',\n",
              " 'get_array_wrap',\n",
              " 'get_include',\n",
              " 'get_printoptions',\n",
              " 'getbufsize',\n",
              " 'geterr',\n",
              " 'geterrcall',\n",
              " 'geterrobj',\n",
              " 'gradient',\n",
              " 'greater',\n",
              " 'greater_equal',\n",
              " 'half',\n",
              " 'hamming',\n",
              " 'hanning',\n",
              " 'heaviside',\n",
              " 'histogram',\n",
              " 'histogram2d',\n",
              " 'histogram_bin_edges',\n",
              " 'histogramdd',\n",
              " 'hsplit',\n",
              " 'hstack',\n",
              " 'hypot',\n",
              " 'i0',\n",
              " 'identity',\n",
              " 'iinfo',\n",
              " 'imag',\n",
              " 'in1d',\n",
              " 'index_exp',\n",
              " 'indices',\n",
              " 'inexact',\n",
              " 'inf',\n",
              " 'info',\n",
              " 'infty',\n",
              " 'inner',\n",
              " 'insert',\n",
              " 'int0',\n",
              " 'int16',\n",
              " 'int32',\n",
              " 'int64',\n",
              " 'int8',\n",
              " 'int_',\n",
              " 'intc',\n",
              " 'integer',\n",
              " 'interp',\n",
              " 'intersect1d',\n",
              " 'intp',\n",
              " 'invert',\n",
              " 'is_busday',\n",
              " 'isclose',\n",
              " 'iscomplex',\n",
              " 'iscomplexobj',\n",
              " 'isfinite',\n",
              " 'isfortran',\n",
              " 'isin',\n",
              " 'isinf',\n",
              " 'isnan',\n",
              " 'isnat',\n",
              " 'isneginf',\n",
              " 'isposinf',\n",
              " 'isreal',\n",
              " 'isrealobj',\n",
              " 'isscalar',\n",
              " 'issctype',\n",
              " 'issubclass_',\n",
              " 'issubdtype',\n",
              " 'issubsctype',\n",
              " 'iterable',\n",
              " 'ix_',\n",
              " 'kaiser',\n",
              " 'kernel_version',\n",
              " 'kron',\n",
              " 'lcm',\n",
              " 'ldexp',\n",
              " 'left_shift',\n",
              " 'less',\n",
              " 'less_equal',\n",
              " 'lexsort',\n",
              " 'lib',\n",
              " 'linalg',\n",
              " 'linspace',\n",
              " 'little_endian',\n",
              " 'load',\n",
              " 'loadtxt',\n",
              " 'log',\n",
              " 'log10',\n",
              " 'log1p',\n",
              " 'log2',\n",
              " 'logaddexp',\n",
              " 'logaddexp2',\n",
              " 'logical_and',\n",
              " 'logical_not',\n",
              " 'logical_or',\n",
              " 'logical_xor',\n",
              " 'logspace',\n",
              " 'longcomplex',\n",
              " 'longdouble',\n",
              " 'longfloat',\n",
              " 'longlong',\n",
              " 'lookfor',\n",
              " 'ma',\n",
              " 'mask_indices',\n",
              " 'mat',\n",
              " 'math',\n",
              " 'matmul',\n",
              " 'matrix',\n",
              " 'matrixlib',\n",
              " 'max',\n",
              " 'maximum',\n",
              " 'maximum_sctype',\n",
              " 'may_share_memory',\n",
              " 'mean',\n",
              " 'median',\n",
              " 'memmap',\n",
              " 'meshgrid',\n",
              " 'mgrid',\n",
              " 'min',\n",
              " 'min_scalar_type',\n",
              " 'minimum',\n",
              " 'mintypecode',\n",
              " 'mod',\n",
              " 'modf',\n",
              " 'moveaxis',\n",
              " 'msort',\n",
              " 'multiply',\n",
              " 'nan',\n",
              " 'nan_to_num',\n",
              " 'nanargmax',\n",
              " 'nanargmin',\n",
              " 'nancumprod',\n",
              " 'nancumsum',\n",
              " 'nanmax',\n",
              " 'nanmean',\n",
              " 'nanmedian',\n",
              " 'nanmin',\n",
              " 'nanpercentile',\n",
              " 'nanprod',\n",
              " 'nanquantile',\n",
              " 'nanstd',\n",
              " 'nansum',\n",
              " 'nanvar',\n",
              " 'nbytes',\n",
              " 'ndarray',\n",
              " 'ndenumerate',\n",
              " 'ndim',\n",
              " 'ndindex',\n",
              " 'nditer',\n",
              " 'negative',\n",
              " 'nested_iters',\n",
              " 'newaxis',\n",
              " 'nextafter',\n",
              " 'nonzero',\n",
              " 'not_equal',\n",
              " 'numarray',\n",
              " 'number',\n",
              " 'obj2sctype',\n",
              " 'object0',\n",
              " 'object_',\n",
              " 'ogrid',\n",
              " 'oldnumeric',\n",
              " 'ones',\n",
              " 'ones_like',\n",
              " 'os',\n",
              " 'outer',\n",
              " 'packbits',\n",
              " 'pad',\n",
              " 'partition',\n",
              " 'percentile',\n",
              " 'pi',\n",
              " 'piecewise',\n",
              " 'place',\n",
              " 'poly',\n",
              " 'poly1d',\n",
              " 'polyadd',\n",
              " 'polyder',\n",
              " 'polydiv',\n",
              " 'polyfit',\n",
              " 'polyint',\n",
              " 'polymul',\n",
              " 'polynomial',\n",
              " 'polysub',\n",
              " 'polyval',\n",
              " 'positive',\n",
              " 'power',\n",
              " 'printoptions',\n",
              " 'prod',\n",
              " 'product',\n",
              " 'promote_types',\n",
              " 'ptp',\n",
              " 'put',\n",
              " 'put_along_axis',\n",
              " 'putmask',\n",
              " 'quantile',\n",
              " 'r_',\n",
              " 'rad2deg',\n",
              " 'radians',\n",
              " 'random',\n",
              " 'ravel',\n",
              " 'ravel_multi_index',\n",
              " 'real',\n",
              " 'real_if_close',\n",
              " 'rec',\n",
              " 'recarray',\n",
              " 'recfromcsv',\n",
              " 'recfromtxt',\n",
              " 'reciprocal',\n",
              " 'record',\n",
              " 'remainder',\n",
              " 'repeat',\n",
              " 'require',\n",
              " 'reshape',\n",
              " 'resize',\n",
              " 'result_type',\n",
              " 'right_shift',\n",
              " 'rint',\n",
              " 'roll',\n",
              " 'rollaxis',\n",
              " 'roots',\n",
              " 'rot90',\n",
              " 'round',\n",
              " 'round_',\n",
              " 'row_stack',\n",
              " 's_',\n",
              " 'safe_eval',\n",
              " 'save',\n",
              " 'savetxt',\n",
              " 'savez',\n",
              " 'savez_compressed',\n",
              " 'sctype2char',\n",
              " 'sctypeDict',\n",
              " 'sctypes',\n",
              " 'searchsorted',\n",
              " 'select',\n",
              " 'set_numeric_ops',\n",
              " 'set_printoptions',\n",
              " 'set_string_function',\n",
              " 'setbufsize',\n",
              " 'setdiff1d',\n",
              " 'seterr',\n",
              " 'seterrcall',\n",
              " 'seterrobj',\n",
              " 'setxor1d',\n",
              " 'shape',\n",
              " 'shares_memory',\n",
              " 'short',\n",
              " 'show_config',\n",
              " 'sign',\n",
              " 'signbit',\n",
              " 'signedinteger',\n",
              " 'sin',\n",
              " 'sinc',\n",
              " 'single',\n",
              " 'singlecomplex',\n",
              " 'sinh',\n",
              " 'size',\n",
              " 'sometrue',\n",
              " 'sort',\n",
              " 'sort_complex',\n",
              " 'source',\n",
              " 'spacing',\n",
              " 'split',\n",
              " 'sqrt',\n",
              " 'square',\n",
              " 'squeeze',\n",
              " 'stack',\n",
              " 'std',\n",
              " 'str0',\n",
              " 'str_',\n",
              " 'string_',\n",
              " 'subtract',\n",
              " 'sum',\n",
              " 'swapaxes',\n",
              " 'sys',\n",
              " 'take',\n",
              " 'take_along_axis',\n",
              " 'tan',\n",
              " 'tanh',\n",
              " 'tensordot',\n",
              " 'test',\n",
              " 'testing',\n",
              " 'tile',\n",
              " 'timedelta64',\n",
              " 'trace',\n",
              " 'tracemalloc_domain',\n",
              " 'transpose',\n",
              " 'trapz',\n",
              " 'tri',\n",
              " 'tril',\n",
              " 'tril_indices',\n",
              " 'tril_indices_from',\n",
              " 'trim_zeros',\n",
              " 'triu',\n",
              " 'triu_indices',\n",
              " 'triu_indices_from',\n",
              " 'true_divide',\n",
              " 'trunc',\n",
              " 'typecodes',\n",
              " 'typename',\n",
              " 'ubyte',\n",
              " 'ufunc',\n",
              " 'uint',\n",
              " 'uint0',\n",
              " 'uint16',\n",
              " 'uint32',\n",
              " 'uint64',\n",
              " 'uint8',\n",
              " 'uintc',\n",
              " 'uintp',\n",
              " 'ulonglong',\n",
              " 'unicode_',\n",
              " 'union1d',\n",
              " 'unique',\n",
              " 'unpackbits',\n",
              " 'unravel_index',\n",
              " 'unsignedinteger',\n",
              " 'unwrap',\n",
              " 'use_hugepage',\n",
              " 'ushort',\n",
              " 'vander',\n",
              " 'var',\n",
              " 'vdot',\n",
              " 'vectorize',\n",
              " 'version',\n",
              " 'void',\n",
              " 'void0',\n",
              " 'vsplit',\n",
              " 'vstack',\n",
              " 'warnings',\n",
              " 'where',\n",
              " 'who',\n",
              " 'zeros',\n",
              " 'zeros_like']"
            ]
          },
          "execution_count": 17,
          "metadata": {},
          "output_type": "execute_result"
        }
      ],
      "source": [
        "import smtpd\n",
        "dir(np)"
      ]
    },
    {
      "cell_type": "code",
      "execution_count": 20,
      "metadata": {},
      "outputs": [
        {
          "data": {
            "text/plain": [
              "<function numpy.clip(a, a_min, a_max, out=None, **kwargs)>"
            ]
          },
          "execution_count": 20,
          "metadata": {},
          "output_type": "execute_result"
        }
      ],
      "source": [
        "np.clip"
      ]
    },
    {
      "cell_type": "code",
      "execution_count": 28,
      "metadata": {},
      "outputs": [
        {
          "data": {
            "text/plain": [
              "['__add__',\n",
              " '__class__',\n",
              " '__delattr__',\n",
              " '__dir__',\n",
              " '__doc__',\n",
              " '__eq__',\n",
              " '__format__',\n",
              " '__ge__',\n",
              " '__getattribute__',\n",
              " '__gt__',\n",
              " '__hash__',\n",
              " '__init__',\n",
              " '__init_subclass__',\n",
              " '__le__',\n",
              " '__lt__',\n",
              " '__ne__',\n",
              " '__new__',\n",
              " '__radd__',\n",
              " '__reduce__',\n",
              " '__reduce_ex__',\n",
              " '__repr__',\n",
              " '__rsub__',\n",
              " '__setattr__',\n",
              " '__sizeof__',\n",
              " '__str__',\n",
              " '__sub__',\n",
              " '__subclasshook__',\n",
              " 'astimezone',\n",
              " 'combine',\n",
              " 'ctime',\n",
              " 'date',\n",
              " 'day',\n",
              " 'dst',\n",
              " 'fold',\n",
              " 'fromisocalendar',\n",
              " 'fromisoformat',\n",
              " 'fromordinal',\n",
              " 'fromtimestamp',\n",
              " 'hour',\n",
              " 'isocalendar',\n",
              " 'isoformat',\n",
              " 'isoweekday',\n",
              " 'max',\n",
              " 'microsecond',\n",
              " 'min',\n",
              " 'minute',\n",
              " 'month',\n",
              " 'now',\n",
              " 'replace',\n",
              " 'resolution',\n",
              " 'second',\n",
              " 'strftime',\n",
              " 'strptime',\n",
              " 'time',\n",
              " 'timestamp',\n",
              " 'timetuple',\n",
              " 'timetz',\n",
              " 'today',\n",
              " 'toordinal',\n",
              " 'tzinfo',\n",
              " 'tzname',\n",
              " 'utcfromtimestamp',\n",
              " 'utcnow',\n",
              " 'utcoffset',\n",
              " 'utctimetuple',\n",
              " 'weekday',\n",
              " 'year']"
            ]
          },
          "execution_count": 28,
          "metadata": {},
          "output_type": "execute_result"
        }
      ],
      "source": [
        "from datetime import datetime\n",
        "dir(datetime)"
      ]
    },
    {
      "cell_type": "code",
      "execution_count": 29,
      "metadata": {},
      "outputs": [
        {
          "data": {
            "text/plain": [
              "['FacetGrid',\n",
              " 'JointGrid',\n",
              " 'PairGrid',\n",
              " '__builtins__',\n",
              " '__cached__',\n",
              " '__doc__',\n",
              " '__file__',\n",
              " '__loader__',\n",
              " '__name__',\n",
              " '__package__',\n",
              " '__path__',\n",
              " '__spec__',\n",
              " '__version__',\n",
              " '_core',\n",
              " '_decorators',\n",
              " '_docstrings',\n",
              " '_orig_rc_params',\n",
              " '_statistics',\n",
              " 'algorithms',\n",
              " 'axes_style',\n",
              " 'axisgrid',\n",
              " 'barplot',\n",
              " 'blend_palette',\n",
              " 'boxenplot',\n",
              " 'boxplot',\n",
              " 'categorical',\n",
              " 'catplot',\n",
              " 'choose_colorbrewer_palette',\n",
              " 'choose_cubehelix_palette',\n",
              " 'choose_dark_palette',\n",
              " 'choose_diverging_palette',\n",
              " 'choose_light_palette',\n",
              " 'clustermap',\n",
              " 'cm',\n",
              " 'color_palette',\n",
              " 'colors',\n",
              " 'countplot',\n",
              " 'crayon_palette',\n",
              " 'crayons',\n",
              " 'cubehelix_palette',\n",
              " 'dark_palette',\n",
              " 'desaturate',\n",
              " 'despine',\n",
              " 'displot',\n",
              " 'distplot',\n",
              " 'distributions',\n",
              " 'diverging_palette',\n",
              " 'dogplot',\n",
              " 'ecdfplot',\n",
              " 'external',\n",
              " 'factorplot',\n",
              " 'get_data_home',\n",
              " 'get_dataset_names',\n",
              " 'heatmap',\n",
              " 'histplot',\n",
              " 'hls_palette',\n",
              " 'husl_palette',\n",
              " 'jointplot',\n",
              " 'kdeplot',\n",
              " 'light_palette',\n",
              " 'lineplot',\n",
              " 'lmplot',\n",
              " 'load_dataset',\n",
              " 'matrix',\n",
              " 'miscplot',\n",
              " 'move_legend',\n",
              " 'mpl',\n",
              " 'mpl_palette',\n",
              " 'pairplot',\n",
              " 'palettes',\n",
              " 'palplot',\n",
              " 'plotting_context',\n",
              " 'pointplot',\n",
              " 'rcmod',\n",
              " 'regplot',\n",
              " 'regression',\n",
              " 'relational',\n",
              " 'relplot',\n",
              " 'reset_defaults',\n",
              " 'reset_orig',\n",
              " 'residplot',\n",
              " 'rugplot',\n",
              " 'saturate',\n",
              " 'scatterplot',\n",
              " 'set',\n",
              " 'set_color_codes',\n",
              " 'set_context',\n",
              " 'set_hls_values',\n",
              " 'set_palette',\n",
              " 'set_style',\n",
              " 'set_theme',\n",
              " 'stripplot',\n",
              " 'swarmplot',\n",
              " 'utils',\n",
              " 'violinplot',\n",
              " 'widgets',\n",
              " 'xkcd_palette',\n",
              " 'xkcd_rgb']"
            ]
          },
          "execution_count": 29,
          "metadata": {},
          "output_type": "execute_result"
        }
      ],
      "source": [
        "dir(sns)"
      ]
    }
  ],
  "metadata": {
    "colab": {
      "include_colab_link": true,
      "name": "TensorFlow-Introduction.ipynb",
      "provenance": []
    },
    "kernelspec": {
      "display_name": "Python 3",
      "name": "python3"
    },
    "language_info": {
      "codemirror_mode": {
        "name": "ipython",
        "version": 3
      },
      "file_extension": ".py",
      "mimetype": "text/x-python",
      "name": "python",
      "nbconvert_exporter": "python",
      "pygments_lexer": "ipython3",
      "version": "3.8.10"
    }
  },
  "nbformat": 4,
  "nbformat_minor": 0
}
