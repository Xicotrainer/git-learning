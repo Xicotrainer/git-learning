{
  "nbformat": 4,
  "nbformat_minor": 0,
  "metadata": {
    "colab": {
      "name": "Untitled8.ipynb",
      "provenance": [],
      "collapsed_sections": []
    },
    "kernelspec": {
      "name": "python3",
      "display_name": "Python 3"
    },
    "language_info": {
      "name": "python"
    }
  },
  "cells": [
    {
      "cell_type": "code",
      "execution_count": 39,
      "metadata": {
        "id": "Ax1VYqaLuTcY"
      },
      "outputs": [],
      "source": [
        "# Getting libraries\n",
        "import tensorflow as tf\n",
        "import numpy as np\n",
        "import matplotlib.pyplot as plt"
      ]
    },
    {
      "cell_type": "code",
      "source": [
        "# Define variables\n",
        "celsius = np.array([-40, -10, 0, 8, 15, 22, 38], dtype=float)\n",
        "fahrenheit = np.array([-40, 14, 32, 46, 59, 72, 100], dtype=float)"
      ],
      "metadata": {
        "id": "y3DJMsraubK9"
      },
      "execution_count": 40,
      "outputs": []
    },
    {
      "cell_type": "code",
      "source": [
        "# Keras instancy: just 1 neuro to send and recibe\n",
        "lay = tf.keras.layers.Dense(units=1, input_shape=[1])"
      ],
      "metadata": {
        "id": "469yB6dKuhom"
      },
      "execution_count": 41,
      "outputs": []
    },
    {
      "cell_type": "code",
      "source": [
        "# Modelling\n",
        "model = tf.keras.Sequential([lay])\n",
        "model.compile(\n",
        "    optimizer = tf.keras.optimizers.Adam(0.1),\n",
        "    loss = 'mean_squared_error'\n",
        ")\n"
      ],
      "metadata": {
        "id": "-Ltqv7cPuvR7"
      },
      "execution_count": 42,
      "outputs": []
    },
    {
      "cell_type": "code",
      "source": [
        "# Run the model\n",
        "print(\"Begin the training...\")\n",
        "historical = model.fit(celsius, fahrenheit, epochs = 1000, verbose = False)\n",
        "print(\"The model has been trained\")"
      ],
      "metadata": {
        "colab": {
          "base_uri": "https://localhost:8080/"
        },
        "id": "yjautDUbwNv-",
        "outputId": "22dd2a10-c211-4cf5-ba72-a84ab8f1082c"
      },
      "execution_count": 43,
      "outputs": [
        {
          "output_type": "stream",
          "name": "stdout",
          "text": [
            "Begin the training...\n",
            "The model has been trained\n"
          ]
        }
      ]
    },
    {
      "cell_type": "code",
      "source": [
        "# Iteration precition\n",
        "plt.xlabel(\"Cycle\")\n",
        "plt.ylabel(\"Loss ratio\")\n",
        "plt.plot(historical.history[\"loss\"])\n"
      ],
      "metadata": {
        "colab": {
          "base_uri": "https://localhost:8080/",
          "height": 296
        },
        "id": "P2Jze4q1wcFQ",
        "outputId": "4d33bfd7-9c81-441b-8238-7ae743ebeec0"
      },
      "execution_count": 44,
      "outputs": [
        {
          "output_type": "execute_result",
          "data": {
            "text/plain": [
              "[<matplotlib.lines.Line2D at 0x7f2af75b6510>]"
            ]
          },
          "metadata": {},
          "execution_count": 44
        },
        {
          "output_type": "display_data",
          "data": {
            "image/png": "[encoded data removed]",
            "text/plain": [
              "<Figure size 432x288 with 1 Axes>"
            ]
          },
          "metadata": {
            "needs_background": "light"
          }
        }
      ]
    },
    {
      "cell_type": "code",
      "source": [
        "# Test\n",
        "print(\"We are going do an estimation of 100 °C\")\n",
        "forecast = model.predict([100.0])\n",
        "print(\"The estimation is {} °F\".format(forecast))"
      ],
      "metadata": {
        "colab": {
          "base_uri": "https://localhost:8080/"
        },
        "id": "rtdE-TMdx5wD",
        "outputId": "425390a7-2ed6-406b-a9fd-f18e514198ca"
      },
      "execution_count": 45,
      "outputs": [
        {
          "output_type": "stream",
          "name": "stdout",
          "text": [
            "We are going do an estimation of 100 °C\n",
            "The estimation is [[211.74396]] °F\n"
          ]
        }
      ]
    },
    {
      "cell_type": "code",
      "source": [
        "# Final parameters\n",
        "print(\"Internal model parameters\")\n",
        "print(lay.get_weights())"
      ],
      "metadata": {
        "colab": {
          "base_uri": "https://localhost:8080/"
        },
        "id": "WRp5XJrX0N5H",
        "outputId": "eb1d2c77-2ab7-4e9c-e16e-eead4ece86e2"
      },
      "execution_count": 46,
      "outputs": [
        {
          "output_type": "stream",
          "name": "stdout",
          "text": [
            "Internal model parameters\n",
            "[array([[1.7981424]], dtype=float32), array([31.929714], dtype=float32)]\n"
          ]
        }
      ]
    },
    {
      "cell_type": "markdown",
      "source": [
        "We are going to add an internal lay into the neuralnet model"
      ],
      "metadata": {
        "id": "jIZkYT2z6xFW"
      }
    },
    {
      "cell_type": "code",
      "source": [
        "# Keras instancy: We use a double internal layer with 3 neuralnets\n",
        "int_lay_1 = tf.keras.layers.Dense(units=3, input_shape=[1])\n",
        "int_lay_2 = tf.keras.layers.Dense(units=3)\n",
        "out_lay = tf.keras.layers.Dense(units=1)\n",
        "\n",
        "model_2 = tf.keras.Sequential([int_lay_1, int_lay_2, out_lay])\n",
        "model_2.compile(\n",
        "    optimizer = tf.keras.optimizers.Adam(0.1),\n",
        "    loss = 'mean_squared_error'\n",
        ")\n",
        "\n",
        "historical = model_2.fit(celsius, fahrenheit, epochs = 160, verbose = False)\n",
        "plt.xlabel(\"Cycle\")\n",
        "plt.ylabel(\"Loss ratio\")\n",
        "plt.plot(historical.history[\"loss\"])\n"
      ],
      "metadata": {
        "id": "jMIldQlk0yyj",
        "colab": {
          "base_uri": "https://localhost:8080/",
          "height": 296
        },
        "outputId": "a55375a5-1eaa-4c8a-c32a-b45178d2f1ff"
      },
      "execution_count": 51,
      "outputs": [
        {
          "output_type": "execute_result",
          "data": {
            "text/plain": [
              "[<matplotlib.lines.Line2D at 0x7f2af82b1750>]"
            ]
          },
          "metadata": {},
          "execution_count": 51
        },
        {
          "output_type": "display_data",
          "data": {
            "image/png": "[encoded data removed]",
            "text/plain": [
              "<Figure size 432x288 with 1 Axes>"
            ]
          },
          "metadata": {
            "needs_background": "light"
          }
        }
      ]
    },
    {
      "cell_type": "code",
      "source": [
        "forecast = model_2.predict([100.0])\n",
        "forecast"
      ],
      "metadata": {
        "colab": {
          "base_uri": "https://localhost:8080/"
        },
        "id": "Dm0jPug481CV",
        "outputId": "6baf2e78-90bb-4a83-d4e8-31b37bbc3f29"
      },
      "execution_count": 52,
      "outputs": [
        {
          "output_type": "execute_result",
          "data": {
            "text/plain": [
              "array([[211.70763]], dtype=float32)"
            ]
          },
          "metadata": {},
          "execution_count": 52
        }
      ]
    }
  ]
}