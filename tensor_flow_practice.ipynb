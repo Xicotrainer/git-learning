{
  "nbformat": 4,
  "nbformat_minor": 0,
  "metadata": {
    "colab": {
      "name": "tensor_data_camps",
      "provenance": [],
      "authorship_tag": "ABX9TyPpdZdv8fawUN4XRyzSibxV",
      "include_colab_link": true
    },
    "kernelspec": {
      "name": "python3",
      "display_name": "Python 3"
    },
    "language_info": {
      "name": "python"
    }
  },
  "cells": [
    {
      "cell_type": "markdown",
      "metadata": {
        "id": "view-in-github",
        "colab_type": "text"
      },
      "source": [
        "<a href=\"https://colab.research.google.com/github/Xicotrainer/git-learning/blob/master/tensor_flow_practice.ipynb\" target=\"_parent\"><img src=\"https://colab.research.google.com/assets/colab-badge.svg\" alt=\"Open In Colab\"/></a>"
      ]
    },
    {
      "cell_type": "code",
      "execution_count": 2,
      "metadata": {
        "colab": {
          "base_uri": "https://localhost:8080/"
        },
        "id": "EvwDBkcTVdJ1",
        "outputId": "94bb29f8-93d8-49fd-cfc4-20faa92e17e6"
      },
      "outputs": [
        {
          "output_type": "stream",
          "name": "stdout",
          "text": [
            "<module 'tensorflow._api.v2.version' from '/usr/local/lib/python3.7/dist-packages/tensorflow/_api/v2/version/__init__.py'>\n"
          ]
        }
      ],
      "source": [
        "%tensorflow_version 2.x\n",
        "import tensorflow as tf\n",
        "print(tf.version)"
      ]
    },
    {
      "cell_type": "code",
      "source": [
        "#There are some scalars\n",
        "string = tf.Variable(\"This is a string\", tf.string)\n",
        "number = tf.Variable(453, tf.int16)\n",
        "floating = tf.Variable(2.71728182, tf.float64)"
      ],
      "metadata": {
        "id": "Pbh62QdDVqDL"
      },
      "execution_count": 3,
      "outputs": []
    },
    {
      "cell_type": "code",
      "source": [
        "print(string, \"\\n\", type(string))\n",
        "print(number, \"\\n\", type(number))\n",
        "print(floating, \"\\n\", type(floating))"
      ],
      "metadata": {
        "colab": {
          "base_uri": "https://localhost:8080/"
        },
        "id": "QVc3bn0bXndQ",
        "outputId": "6f85ecb5-3110-4bff-f3f5-8cbf69c477c1"
      },
      "execution_count": 5,
      "outputs": [
        {
          "output_type": "stream",
          "name": "stdout",
          "text": [
            "<tf.Variable 'Variable:0' shape=() dtype=string, numpy=b'This is a string'> \n",
            " <class 'tensorflow.python.ops.resource_variable_ops.ResourceVariable'>\n",
            "<tf.Variable 'Variable:0' shape=() dtype=int32, numpy=453> \n",
            " <class 'tensorflow.python.ops.resource_variable_ops.ResourceVariable'>\n",
            "<tf.Variable 'Variable:0' shape=() dtype=float32, numpy=2.7172818> \n",
            " <class 'tensorflow.python.ops.resource_variable_ops.ResourceVariable'>\n"
          ]
        }
      ]
    },
    {
      "cell_type": "code",
      "source": [
        "#There are another vectors\n",
        "rank1_tensor = tf.Variable([\"Test\"], tf.string)\n",
        "rank2_tensor = tf.Variable([[\"Test_1\", \"Ok\"], [\"Test_2\", \"Reject\"]], tf.string)"
      ],
      "metadata": {
        "id": "_bQ61VhqX6jr"
      },
      "execution_count": 7,
      "outputs": []
    },
    {
      "cell_type": "code",
      "source": [
        "print(rank1_tensor, \"\\n ---------\", type(rank1_tensor))\n",
        "print(rank2_tensor, \"\\n ---------\", type(rank2_tensor))"
      ],
      "metadata": {
        "colab": {
          "base_uri": "https://localhost:8080/"
        },
        "id": "TBttb-WLYzxs",
        "outputId": "9a11403e-6dd4-4c1d-cb6e-3ad4293bef7d"
      },
      "execution_count": 8,
      "outputs": [
        {
          "output_type": "stream",
          "name": "stdout",
          "text": [
            "<tf.Variable 'Variable:0' shape=(1,) dtype=string, numpy=array([b'Test'], dtype=object)> \n",
            " --------- <class 'tensorflow.python.ops.resource_variable_ops.ResourceVariable'>\n",
            "<tf.Variable 'Variable:0' shape=(2, 2) dtype=string, numpy=\n",
            "array([[b'Test_1', b'Ok'],\n",
            "       [b'Test_2', b'Reject']], dtype=object)> \n",
            " --------- <class 'tensorflow.python.ops.resource_variable_ops.ResourceVariable'>\n"
          ]
        }
      ]
    },
    {
      "cell_type": "code",
      "source": [
        ""
      ],
      "metadata": {
        "id": "e2Z5wIyMZigg"
      },
      "execution_count": null,
      "outputs": []
    }
  ]
}