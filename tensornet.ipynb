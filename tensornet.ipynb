{
  "nbformat": 4,
  "nbformat_minor": 0,
  "metadata": {
    "colab": {
      "name": "Untitled8.ipynb",
      "provenance": []
    },
    "kernelspec": {
      "name": "python3",
      "display_name": "Python 3"
    },
    "language_info": {
      "name": "python"
    }
  },
  "cells": [
    {
      "cell_type": "code",
      "execution_count": null,
      "metadata": {
        "id": "Ax1VYqaLuTcY"
      },
      "outputs": [],
      "source": [
        "# Getting libraries\n",
        "import tensorflow as tf\n",
        "import numpy as np"
      ]
    },
    {
      "cell_type": "code",
      "source": [
        "# Define variables\n",
        "celsius = np.array([-40, -10, 0, 8, 15, 22, 38], dtype=float)\n",
        "fahrenheit = np.array([-40, -14, 32, 46, 59, 72, 100], dtype=float)"
      ],
      "metadata": {
        "id": "y3DJMsraubK9"
      },
      "execution_count": null,
      "outputs": []
    },
    {
      "cell_type": "code",
      "source": [
        "# Keras instancy: just 1 neuro to send and recibe\n",
        "lay = tf.keras.layers.Dense(units=1, input_shape=[1])"
      ],
      "metadata": {
        "id": "469yB6dKuhom"
      },
      "execution_count": null,
      "outputs": []
    },
    {
      "cell_type": "code",
      "source": [
        "# Modelling\n",
        "model = tf.keras.Sequential([lay])\n",
        "model.compile(\n",
        "    optimizer = tf.keras.optimizers.Adam(0.1),\n",
        "    loss = 'mean_squared_error'\n",
        ")\n"
      ],
      "metadata": {
        "id": "-Ltqv7cPuvR7"
      },
      "execution_count": null,
      "outputs": []
    },
    {
      "cell_type": "code",
      "source": [
        "# Run the model\n",
        "print(\"Begin the training...\")\n",
        "historical = model.fit(celsius, fahrenheit, epochs = 400, verbose = False)\n",
        "print(\"Modelo entrenado!\")"
      ],
      "metadata": {
        "colab": {
          "base_uri": "https://localhost:8080/"
        },
        "id": "yjautDUbwNv-",
        "outputId": "290b7e7b-c245-416a-fe52-7c85932adae9"
      },
      "execution_count": null,
      "outputs": [
        {
          "output_type": "stream",
          "name": "stdout",
          "text": [
            "Begin the training...\n",
            "Modelo entrenado!\n"
          ]
        }
      ]
    },
    {
      "cell_type": "code",
      "source": [
        "# Iteration precition\n",
        "import matplotlib.pyplot as plt\n",
        "plt.xlabel(\"# Cicle\")\n",
        "plt.ylabel(\"Magnitud de pérdida\")\n",
        "plt.plot(historical.history[\"loss\"])\n"
      ],
      "metadata": {
        "colab": {
          "base_uri": "https://localhost:8080/",
          "height": 296
        },
        "id": "P2Jze4q1wcFQ",
        "outputId": "d6fcfe84-4253-46c3-e05c-29aab03ab101"
      },
      "execution_count": null,
      "outputs": [
        {
          "output_type": "execute_result",
          "data": {
            "text/plain": [
              "[<matplotlib.lines.Line2D at 0x7fa1e5f34990>]"
            ]
          },
          "metadata": {},
          "execution_count": 26
        },
        {
          "output_type": "display_data",
          "data": {
            "image/png": "[encoded data removed]",
            "text/plain": [
              "<Figure size 432x288 with 1 Axes>"
            ]
          },
          "metadata": {
            "needs_background": "light"
          }
        }
      ]
    },
    {
      "cell_type": "code",
      "source": [
        "# Test\n",
        "print(\"We are going do an estimation of 100 °C\")\n",
        "forecast = model.predict([100.0])\n",
        "print(\"The estimation is {} °F\".format(forecast))"
      ],
      "metadata": {
        "colab": {
          "base_uri": "https://localhost:8080/"
        },
        "id": "rtdE-TMdx5wD",
        "outputId": "7b4c59d4-56c5-4910-f49c-0647033c06be"
      },
      "execution_count": null,
      "outputs": [
        {
          "output_type": "stream",
          "name": "stdout",
          "text": [
            "We are going do an estimation of 100 °C\n",
            "The estimation is [[218.18434]] °F\n"
          ]
        }
      ]
    },
    {
      "cell_type": "code",
      "source": [
        "# Final parameters\n",
        "print(\"Internal model parameters\")\n",
        "print(lay.get_weights())"
      ],
      "metadata": {
        "colab": {
          "base_uri": "https://localhost:8080/"
        },
        "id": "WRp5XJrX0N5H",
        "outputId": "61e22e29-2a4b-4620-dbdf-d895b16238a6"
      },
      "execution_count": null,
      "outputs": [
        {
          "output_type": "stream",
          "name": "stdout",
          "text": [
            "Internal model parameters\n",
            "[array([[1.9074818]], dtype=float32), array([27.436157], dtype=float32)]\n"
          ]
        }
      ]
    },
    {
      "cell_type": "code",
      "source": [
        ""
      ],
      "metadata": {
        "id": "jMIldQlk0yyj"
      },
      "execution_count": null,
      "outputs": []
    }
  ]
}