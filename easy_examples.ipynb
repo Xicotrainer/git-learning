condition = True
x = 10 if condition else 11
x