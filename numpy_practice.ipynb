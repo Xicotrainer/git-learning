{
  "cells": [
    {
      "cell_type": "code",
      "execution_count": 1,
      "metadata": {
        "id": "FvofcO_74x6b"
      },
      "outputs": [],
      "source": [
        "# Just getting the libreries\n",
        "import numpy as np\n",
        "import pandas as pd\n",
        "import matplotlib.pyplot as plt\n",
        "import seaborn as sb\n",
        "\n",
        "%matplotlib inline"
      ]
    },
    {
      "cell_type": "code",
      "execution_count": 2,
      "metadata": {
        "id": "FcGaGT2l49Rb"
      },
      "outputs": [],
      "source": [
        "# Accessing to data\n",
        "movies = pd.read_csv('https://github.com/JuanPabloMF/datasets-platzi-course/blob/master/datasets/peliculas.csv?raw=true')\n",
        "financials = pd.read_csv('https://github.com/JuanPabloMF/datasets-platzi-course/blob/master/datasets/thenumbers.csv?raw=true', encoding='utf-8')\n"
      ]
    },
    {
      "cell_type": "code",
      "execution_count": 3,
      "metadata": {
        "colab": {
          "base_uri": "https://localhost:8080/"
        },
        "id": "cI3kc-s-9NJj",
        "outputId": "c047d28f-2aed-4eb1-9204-ece29a195b17"
      },
      "outputs": [
        {
          "data": {
            "text/plain": [
              "RangeIndex(start=0, stop=5043, step=1)"
            ]
          },
          "execution_count": 3,
          "metadata": {},
          "output_type": "execute_result"
        }
      ],
      "source": [
        "# Data scouting\n",
        "movies.index"
      ]
    },
    {
      "cell_type": "code",
      "execution_count": 4,
      "metadata": {
        "colab": {
          "base_uri": "https://localhost:8080/"
        },
        "id": "GAtGkFYw90FH",
        "outputId": "825316dd-9733-405b-a1ca-3f953a0530a7"
      },
      "outputs": [
        {
          "data": {
            "text/plain": [
              "Index(['movie_title', 'title_year', 'color', 'aspect_ratio', 'duration',\n",
              "       'language', 'country', 'duration.1', 'genres', 'content_rating',\n",
              "       'plot_keywords', 'director_name', 'actor_1_name', 'actor_2_name',\n",
              "       'actor_3_name', 'cast_total_facebook_likes', 'budget', 'imdb_score',\n",
              "       'gross'],\n",
              "      dtype='object')"
            ]
          },
          "execution_count": 4,
          "metadata": {},
          "output_type": "execute_result"
        }
      ],
      "source": [
        "movies.columns"
      ]
    },
    {
      "cell_type": "code",
      "execution_count": 5,
      "metadata": {
        "colab": {
          "base_uri": "https://localhost:8080/"
        },
        "id": "lSlZKCd5-elY",
        "outputId": "e0126bfb-874d-4d7d-ce01-ae97cafedee3"
      },
      "outputs": [
        {
          "data": {
            "text/plain": [
              "0                                              Avatar \n",
              "1            Pirates of the Caribbean: At World's End \n",
              "2                                             Spectre \n",
              "3                               The Dark Knight Rises \n",
              "4    Star Wars: Episode VII - The Force Awakens    ...\n",
              "Name: movie_title, dtype: object"
            ]
          },
          "execution_count": 5,
          "metadata": {},
          "output_type": "execute_result"
        }
      ],
      "source": [
        "# Two ways to show a dataframe column\n",
        "movies.loc[:, 'movie_title'].head()"
      ]
    },
    {
      "cell_type": "code",
      "execution_count": 6,
      "metadata": {
        "colab": {
          "base_uri": "https://localhost:8080/"
        },
        "id": "OKSlYW3l92yP",
        "outputId": "7639941c-d280-41cc-ebb8-2606d04eb46b"
      },
      "outputs": [
        {
          "data": {
            "text/plain": [
              "0                                              Avatar \n",
              "1            Pirates of the Caribbean: At World's End \n",
              "2                                             Spectre \n",
              "3                               The Dark Knight Rises \n",
              "4    Star Wars: Episode VII - The Force Awakens    ...\n",
              "Name: movie_title, dtype: object"
            ]
          },
          "execution_count": 6,
          "metadata": {},
          "output_type": "execute_result"
        }
      ],
      "source": [
        "movies['movie_title'].head()"
      ]
    },
    {
      "cell_type": "code",
      "execution_count": 7,
      "metadata": {
        "colab": {
          "base_uri": "https://localhost:8080/"
        },
        "id": "NDZVRh8F-OFR",
        "outputId": "c52cc8f8-8852-491d-e698-d0b96bde7034"
      },
      "outputs": [
        {
          "data": {
            "text/plain": [
              "movie_title                                Batman v Superman: Dawn of Justice \n",
              "title_year                                                              2016.0\n",
              "color                                                                    Color\n",
              "aspect_ratio                                                              2.35\n",
              "duration                                                                 183.0\n",
              "language                                                               English\n",
              "country                                                                    USA\n",
              "duration.1                                                               183.0\n",
              "genres                                                 Action|Adventure|Sci-Fi\n",
              "content_rating                                                           PG-13\n",
              "plot_keywords                based on comic book|batman|sequel to a reboot|...\n",
              "director_name                                                      Zack Snyder\n",
              "actor_1_name                                                      Henry Cavill\n",
              "actor_2_name                                                      Lauren Cohan\n",
              "actor_3_name                                                    Alan D. Purwin\n",
              "cast_total_facebook_likes                                                24450\n",
              "budget                                                             250000000.0\n",
              "imdb_score                                                                 6.9\n",
              "gross                                                              330249062.0\n",
              "Name: 10, dtype: object"
            ]
          },
          "execution_count": 7,
          "metadata": {},
          "output_type": "execute_result"
        }
      ],
      "source": [
        "# Showing the 10th dataframe record \n",
        "row = movies.loc[10, :]\n",
        "row"
      ]
    },
    {
      "cell_type": "code",
      "execution_count": 8,
      "metadata": {
        "colab": {
          "base_uri": "https://localhost:8080/"
        },
        "id": "3Y8U-YOr-2Jy",
        "outputId": "8fc7ed4c-0fd2-4441-e799-244799a2e0c9"
      },
      "outputs": [
        {
          "name": "stdout",
          "output_type": "stream",
          "text": [
            "<class 'pandas.core.frame.DataFrame'>\n",
            "RangeIndex: 5043 entries, 0 to 5042\n",
            "Data columns (total 19 columns):\n",
            " #   Column                     Non-Null Count  Dtype  \n",
            "---  ------                     --------------  -----  \n",
            " 0   movie_title                5043 non-null   object \n",
            " 1   title_year                 4935 non-null   float64\n",
            " 2   color                      5024 non-null   object \n",
            " 3   aspect_ratio               4714 non-null   float64\n",
            " 4   duration                   5028 non-null   float64\n",
            " 5   language                   5031 non-null   object \n",
            " 6   country                    5038 non-null   object \n",
            " 7   duration.1                 5028 non-null   float64\n",
            " 8   genres                     5043 non-null   object \n",
            " 9   content_rating             4740 non-null   object \n",
            " 10  plot_keywords              4890 non-null   object \n",
            " 11  director_name              4939 non-null   object \n",
            " 12  actor_1_name               5036 non-null   object \n",
            " 13  actor_2_name               5030 non-null   object \n",
            " 14  actor_3_name               5020 non-null   object \n",
            " 15  cast_total_facebook_likes  5043 non-null   int64  \n",
            " 16  budget                     4551 non-null   float64\n",
            " 17  imdb_score                 5043 non-null   float64\n",
            " 18  gross                      4159 non-null   float64\n",
            "dtypes: float64(7), int64(1), object(11)\n",
            "memory usage: 748.7+ KB\n"
          ]
        }
      ],
      "source": [
        "# We'll do a fast data inspection\n",
        "movies.info() "
      ]
    },
    {
      "cell_type": "code",
      "execution_count": 9,
      "metadata": {
        "id": "h3Y5TEz1stcc"
      },
      "outputs": [],
      "source": [
        "# We make a distintion between numeric and no-numerical fields\n",
        "num_field = (movies.dtypes==float) | (movies.dtypes==int)\n",
        "num_ind = [column for column in num_field.index if num_field[column]]\n",
        "\n",
        "obj_field = (movies.dtypes == object)\n",
        "obj_ind = [column for column in obj_field.index if obj_field[column]]\n",
        "\n",
        "# Another way to get the indes of no numerical fields  \n",
        "# obj_ind = [column for column in list(num_field.index) if column not in num_ind]"
      ]
    },
    {
      "cell_type": "code",
      "execution_count": 10,
      "metadata": {
        "id": "HXabcF6Hybvc"
      },
      "outputs": [
        {
          "data": {
            "text/html": [
              "<div>\n",
              "<style scoped>\n",
              "    .dataframe tbody tr th:only-of-type {\n",
              "        vertical-align: middle;\n",
              "    }\n",
              "\n",
              "    .dataframe tbody tr th {\n",
              "        vertical-align: top;\n",
              "    }\n",
              "\n",
              "    .dataframe thead th {\n",
              "        text-align: right;\n",
              "    }\n",
              "</style>\n",
              "<table border=\"1\" class=\"dataframe\">\n",
              "  <thead>\n",
              "    <tr style=\"text-align: right;\">\n",
              "      <th></th>\n",
              "      <th>title_year</th>\n",
              "      <th>aspect_ratio</th>\n",
              "      <th>duration</th>\n",
              "      <th>duration.1</th>\n",
              "      <th>cast_total_facebook_likes</th>\n",
              "      <th>budget</th>\n",
              "      <th>imdb_score</th>\n",
              "      <th>gross</th>\n",
              "    </tr>\n",
              "  </thead>\n",
              "  <tbody>\n",
              "    <tr>\n",
              "      <th>0</th>\n",
              "      <td>2009.0</td>\n",
              "      <td>1.78</td>\n",
              "      <td>178.0</td>\n",
              "      <td>178.0</td>\n",
              "      <td>4834</td>\n",
              "      <td>237000000.0</td>\n",
              "      <td>7.9</td>\n",
              "      <td>760505847.0</td>\n",
              "    </tr>\n",
              "    <tr>\n",
              "      <th>1</th>\n",
              "      <td>2007.0</td>\n",
              "      <td>2.35</td>\n",
              "      <td>169.0</td>\n",
              "      <td>169.0</td>\n",
              "      <td>48350</td>\n",
              "      <td>300000000.0</td>\n",
              "      <td>7.1</td>\n",
              "      <td>309404152.0</td>\n",
              "    </tr>\n",
              "    <tr>\n",
              "      <th>2</th>\n",
              "      <td>2015.0</td>\n",
              "      <td>2.35</td>\n",
              "      <td>148.0</td>\n",
              "      <td>148.0</td>\n",
              "      <td>11700</td>\n",
              "      <td>245000000.0</td>\n",
              "      <td>6.8</td>\n",
              "      <td>200074175.0</td>\n",
              "    </tr>\n",
              "    <tr>\n",
              "      <th>3</th>\n",
              "      <td>2012.0</td>\n",
              "      <td>2.35</td>\n",
              "      <td>164.0</td>\n",
              "      <td>164.0</td>\n",
              "      <td>106759</td>\n",
              "      <td>250000000.0</td>\n",
              "      <td>8.5</td>\n",
              "      <td>448130642.0</td>\n",
              "    </tr>\n",
              "    <tr>\n",
              "      <th>4</th>\n",
              "      <td>NaN</td>\n",
              "      <td>NaN</td>\n",
              "      <td>NaN</td>\n",
              "      <td>NaN</td>\n",
              "      <td>143</td>\n",
              "      <td>NaN</td>\n",
              "      <td>7.1</td>\n",
              "      <td>NaN</td>\n",
              "    </tr>\n",
              "  </tbody>\n",
              "</table>\n",
              "</div>"
            ],
            "text/plain": [
              "   title_year  aspect_ratio  duration  duration.1  cast_total_facebook_likes  \\\n",
              "0      2009.0          1.78     178.0       178.0                       4834   \n",
              "1      2007.0          2.35     169.0       169.0                      48350   \n",
              "2      2015.0          2.35     148.0       148.0                      11700   \n",
              "3      2012.0          2.35     164.0       164.0                     106759   \n",
              "4         NaN           NaN       NaN         NaN                        143   \n",
              "\n",
              "        budget  imdb_score        gross  \n",
              "0  237000000.0         7.9  760505847.0  \n",
              "1  300000000.0         7.1  309404152.0  \n",
              "2  245000000.0         6.8  200074175.0  \n",
              "3  250000000.0         8.5  448130642.0  \n",
              "4          NaN         7.1          NaN  "
            ]
          },
          "execution_count": 10,
          "metadata": {},
          "output_type": "execute_result"
        }
      ],
      "source": [
        "movies[num_ind].head()"
      ]
    },
    {
      "cell_type": "code",
      "execution_count": 11,
      "metadata": {
        "id": "N1RJC5qEstcd"
      },
      "outputs": [
        {
          "data": {
            "text/html": [
              "<div>\n",
              "<style scoped>\n",
              "    .dataframe tbody tr th:only-of-type {\n",
              "        vertical-align: middle;\n",
              "    }\n",
              "\n",
              "    .dataframe tbody tr th {\n",
              "        vertical-align: top;\n",
              "    }\n",
              "\n",
              "    .dataframe thead th {\n",
              "        text-align: right;\n",
              "    }\n",
              "</style>\n",
              "<table border=\"1\" class=\"dataframe\">\n",
              "  <thead>\n",
              "    <tr style=\"text-align: right;\">\n",
              "      <th></th>\n",
              "      <th>movie_title</th>\n",
              "      <th>color</th>\n",
              "      <th>language</th>\n",
              "      <th>country</th>\n",
              "      <th>genres</th>\n",
              "      <th>content_rating</th>\n",
              "      <th>plot_keywords</th>\n",
              "      <th>director_name</th>\n",
              "      <th>actor_1_name</th>\n",
              "      <th>actor_2_name</th>\n",
              "      <th>actor_3_name</th>\n",
              "    </tr>\n",
              "  </thead>\n",
              "  <tbody>\n",
              "    <tr>\n",
              "      <th>0</th>\n",
              "      <td>Avatar</td>\n",
              "      <td>Color</td>\n",
              "      <td>English</td>\n",
              "      <td>USA</td>\n",
              "      <td>Action|Adventure|Fantasy|Sci-Fi</td>\n",
              "      <td>PG-13</td>\n",
              "      <td>avatar|future|marine|native|paraplegic</td>\n",
              "      <td>James Cameron</td>\n",
              "      <td>CCH Pounder</td>\n",
              "      <td>Joel David Moore</td>\n",
              "      <td>Wes Studi</td>\n",
              "    </tr>\n",
              "    <tr>\n",
              "      <th>1</th>\n",
              "      <td>Pirates of the Caribbean: At World's End</td>\n",
              "      <td>Color</td>\n",
              "      <td>English</td>\n",
              "      <td>USA</td>\n",
              "      <td>Action|Adventure|Fantasy</td>\n",
              "      <td>PG-13</td>\n",
              "      <td>goddess|marriage ceremony|marriage proposal|pi...</td>\n",
              "      <td>Gore Verbinski</td>\n",
              "      <td>Johnny Depp</td>\n",
              "      <td>Orlando Bloom</td>\n",
              "      <td>Jack Davenport</td>\n",
              "    </tr>\n",
              "    <tr>\n",
              "      <th>2</th>\n",
              "      <td>Spectre</td>\n",
              "      <td>Color</td>\n",
              "      <td>English</td>\n",
              "      <td>UK</td>\n",
              "      <td>Action|Adventure|Thriller</td>\n",
              "      <td>PG-13</td>\n",
              "      <td>bomb|espionage|sequel|spy|terrorist</td>\n",
              "      <td>Sam Mendes</td>\n",
              "      <td>Christoph Waltz</td>\n",
              "      <td>Rory Kinnear</td>\n",
              "      <td>Stephanie Sigman</td>\n",
              "    </tr>\n",
              "    <tr>\n",
              "      <th>3</th>\n",
              "      <td>The Dark Knight Rises</td>\n",
              "      <td>Color</td>\n",
              "      <td>English</td>\n",
              "      <td>USA</td>\n",
              "      <td>Action|Thriller</td>\n",
              "      <td>PG-13</td>\n",
              "      <td>deception|imprisonment|lawlessness|police offi...</td>\n",
              "      <td>Christopher Nolan</td>\n",
              "      <td>Tom Hardy</td>\n",
              "      <td>Christian Bale</td>\n",
              "      <td>Joseph Gordon-Levitt</td>\n",
              "    </tr>\n",
              "    <tr>\n",
              "      <th>4</th>\n",
              "      <td>Star Wars: Episode VII - The Force Awakens    ...</td>\n",
              "      <td>NaN</td>\n",
              "      <td>NaN</td>\n",
              "      <td>NaN</td>\n",
              "      <td>Documentary</td>\n",
              "      <td>NaN</td>\n",
              "      <td>NaN</td>\n",
              "      <td>Doug Walker</td>\n",
              "      <td>Doug Walker</td>\n",
              "      <td>Rob Walker</td>\n",
              "      <td>NaN</td>\n",
              "    </tr>\n",
              "  </tbody>\n",
              "</table>\n",
              "</div>"
            ],
            "text/plain": [
              "                                         movie_title  color language country  \\\n",
              "0                                            Avatar   Color  English     USA   \n",
              "1          Pirates of the Caribbean: At World's End   Color  English     USA   \n",
              "2                                           Spectre   Color  English      UK   \n",
              "3                             The Dark Knight Rises   Color  English     USA   \n",
              "4  Star Wars: Episode VII - The Force Awakens    ...    NaN      NaN     NaN   \n",
              "\n",
              "                            genres content_rating  \\\n",
              "0  Action|Adventure|Fantasy|Sci-Fi          PG-13   \n",
              "1         Action|Adventure|Fantasy          PG-13   \n",
              "2        Action|Adventure|Thriller          PG-13   \n",
              "3                  Action|Thriller          PG-13   \n",
              "4                      Documentary            NaN   \n",
              "\n",
              "                                       plot_keywords      director_name  \\\n",
              "0             avatar|future|marine|native|paraplegic      James Cameron   \n",
              "1  goddess|marriage ceremony|marriage proposal|pi...     Gore Verbinski   \n",
              "2                bomb|espionage|sequel|spy|terrorist         Sam Mendes   \n",
              "3  deception|imprisonment|lawlessness|police offi...  Christopher Nolan   \n",
              "4                                                NaN        Doug Walker   \n",
              "\n",
              "      actor_1_name      actor_2_name          actor_3_name  \n",
              "0      CCH Pounder  Joel David Moore             Wes Studi  \n",
              "1      Johnny Depp     Orlando Bloom        Jack Davenport  \n",
              "2  Christoph Waltz      Rory Kinnear      Stephanie Sigman  \n",
              "3        Tom Hardy    Christian Bale  Joseph Gordon-Levitt  \n",
              "4      Doug Walker        Rob Walker                   NaN  "
            ]
          },
          "execution_count": 11,
          "metadata": {},
          "output_type": "execute_result"
        }
      ],
      "source": [
        "movies[obj_ind].head()"
      ]
    },
    {
      "cell_type": "code",
      "execution_count": 12,
      "metadata": {
        "id": "GkHvcjrSstce"
      },
      "outputs": [],
      "source": [
        "# Statistical data inspection"
      ]
    },
    {
      "cell_type": "code",
      "execution_count": 13,
      "metadata": {
        "colab": {
          "base_uri": "https://localhost:8080/",
          "height": 206
        },
        "id": "lNc-bUYOzLYJ",
        "outputId": "69024810-4567-4e08-d82c-d98d207b03b2"
      },
      "outputs": [
        {
          "data": {
            "text/html": [
              "<div>\n",
              "<style scoped>\n",
              "    .dataframe tbody tr th:only-of-type {\n",
              "        vertical-align: middle;\n",
              "    }\n",
              "\n",
              "    .dataframe tbody tr th {\n",
              "        vertical-align: top;\n",
              "    }\n",
              "\n",
              "    .dataframe thead th {\n",
              "        text-align: right;\n",
              "    }\n",
              "</style>\n",
              "<table border=\"1\" class=\"dataframe\">\n",
              "  <thead>\n",
              "    <tr style=\"text-align: right;\">\n",
              "      <th></th>\n",
              "      <th>title_year</th>\n",
              "      <th>aspect_ratio</th>\n",
              "      <th>duration</th>\n",
              "      <th>duration.1</th>\n",
              "      <th>cast_total_facebook_likes</th>\n",
              "      <th>budget</th>\n",
              "      <th>imdb_score</th>\n",
              "      <th>gross</th>\n",
              "    </tr>\n",
              "  </thead>\n",
              "  <tbody>\n",
              "    <tr>\n",
              "      <th>0</th>\n",
              "      <td>2009.0</td>\n",
              "      <td>1.78</td>\n",
              "      <td>178.0</td>\n",
              "      <td>178.0</td>\n",
              "      <td>4834</td>\n",
              "      <td>237000000.0</td>\n",
              "      <td>7.9</td>\n",
              "      <td>760505847.0</td>\n",
              "    </tr>\n",
              "    <tr>\n",
              "      <th>1</th>\n",
              "      <td>2007.0</td>\n",
              "      <td>2.35</td>\n",
              "      <td>169.0</td>\n",
              "      <td>169.0</td>\n",
              "      <td>48350</td>\n",
              "      <td>300000000.0</td>\n",
              "      <td>7.1</td>\n",
              "      <td>309404152.0</td>\n",
              "    </tr>\n",
              "    <tr>\n",
              "      <th>2</th>\n",
              "      <td>2015.0</td>\n",
              "      <td>2.35</td>\n",
              "      <td>148.0</td>\n",
              "      <td>148.0</td>\n",
              "      <td>11700</td>\n",
              "      <td>245000000.0</td>\n",
              "      <td>6.8</td>\n",
              "      <td>200074175.0</td>\n",
              "    </tr>\n",
              "    <tr>\n",
              "      <th>3</th>\n",
              "      <td>2012.0</td>\n",
              "      <td>2.35</td>\n",
              "      <td>164.0</td>\n",
              "      <td>164.0</td>\n",
              "      <td>106759</td>\n",
              "      <td>250000000.0</td>\n",
              "      <td>8.5</td>\n",
              "      <td>448130642.0</td>\n",
              "    </tr>\n",
              "    <tr>\n",
              "      <th>4</th>\n",
              "      <td>NaN</td>\n",
              "      <td>NaN</td>\n",
              "      <td>NaN</td>\n",
              "      <td>NaN</td>\n",
              "      <td>143</td>\n",
              "      <td>NaN</td>\n",
              "      <td>7.1</td>\n",
              "      <td>NaN</td>\n",
              "    </tr>\n",
              "  </tbody>\n",
              "</table>\n",
              "</div>"
            ],
            "text/plain": [
              "   title_year  aspect_ratio  duration  duration.1  cast_total_facebook_likes  \\\n",
              "0      2009.0          1.78     178.0       178.0                       4834   \n",
              "1      2007.0          2.35     169.0       169.0                      48350   \n",
              "2      2015.0          2.35     148.0       148.0                      11700   \n",
              "3      2012.0          2.35     164.0       164.0                     106759   \n",
              "4         NaN           NaN       NaN         NaN                        143   \n",
              "\n",
              "        budget  imdb_score        gross  \n",
              "0  237000000.0         7.9  760505847.0  \n",
              "1  300000000.0         7.1  309404152.0  \n",
              "2  245000000.0         6.8  200074175.0  \n",
              "3  250000000.0         8.5  448130642.0  \n",
              "4          NaN         7.1          NaN  "
            ]
          },
          "execution_count": 13,
          "metadata": {},
          "output_type": "execute_result"
        }
      ],
      "source": [
        "movies_num = movies[num_ind]\n",
        "movies_num.head()"
      ]
    },
    {
      "cell_type": "code",
      "execution_count": 14,
      "metadata": {
        "colab": {
          "base_uri": "https://localhost:8080/",
          "height": 300
        },
        "id": "G-idIfjezLVV",
        "outputId": "deff4994-fda8-478a-da2c-26350d8ee136"
      },
      "outputs": [
        {
          "data": {
            "text/html": [
              "<div>\n",
              "<style scoped>\n",
              "    .dataframe tbody tr th:only-of-type {\n",
              "        vertical-align: middle;\n",
              "    }\n",
              "\n",
              "    .dataframe tbody tr th {\n",
              "        vertical-align: top;\n",
              "    }\n",
              "\n",
              "    .dataframe thead th {\n",
              "        text-align: right;\n",
              "    }\n",
              "</style>\n",
              "<table border=\"1\" class=\"dataframe\">\n",
              "  <thead>\n",
              "    <tr style=\"text-align: right;\">\n",
              "      <th></th>\n",
              "      <th>title_year</th>\n",
              "      <th>aspect_ratio</th>\n",
              "      <th>duration</th>\n",
              "      <th>duration.1</th>\n",
              "      <th>cast_total_facebook_likes</th>\n",
              "      <th>budget</th>\n",
              "      <th>imdb_score</th>\n",
              "      <th>gross</th>\n",
              "    </tr>\n",
              "  </thead>\n",
              "  <tbody>\n",
              "    <tr>\n",
              "      <th>count</th>\n",
              "      <td>4935.000000</td>\n",
              "      <td>4714.000000</td>\n",
              "      <td>5028.000000</td>\n",
              "      <td>5028.000000</td>\n",
              "      <td>5043.000000</td>\n",
              "      <td>4.551000e+03</td>\n",
              "      <td>5043.000000</td>\n",
              "      <td>4.159000e+03</td>\n",
              "    </tr>\n",
              "    <tr>\n",
              "      <th>mean</th>\n",
              "      <td>2002.470517</td>\n",
              "      <td>2.220403</td>\n",
              "      <td>107.201074</td>\n",
              "      <td>107.201074</td>\n",
              "      <td>9699.063851</td>\n",
              "      <td>3.975262e+07</td>\n",
              "      <td>6.442138</td>\n",
              "      <td>4.846841e+07</td>\n",
              "    </tr>\n",
              "    <tr>\n",
              "      <th>std</th>\n",
              "      <td>12.474599</td>\n",
              "      <td>1.385113</td>\n",
              "      <td>25.197441</td>\n",
              "      <td>25.197441</td>\n",
              "      <td>18163.799124</td>\n",
              "      <td>2.061149e+08</td>\n",
              "      <td>1.125116</td>\n",
              "      <td>6.845299e+07</td>\n",
              "    </tr>\n",
              "    <tr>\n",
              "      <th>min</th>\n",
              "      <td>1916.000000</td>\n",
              "      <td>1.180000</td>\n",
              "      <td>7.000000</td>\n",
              "      <td>7.000000</td>\n",
              "      <td>0.000000</td>\n",
              "      <td>2.180000e+02</td>\n",
              "      <td>1.600000</td>\n",
              "      <td>1.620000e+02</td>\n",
              "    </tr>\n",
              "    <tr>\n",
              "      <th>25%</th>\n",
              "      <td>1999.000000</td>\n",
              "      <td>1.850000</td>\n",
              "      <td>93.000000</td>\n",
              "      <td>93.000000</td>\n",
              "      <td>1411.000000</td>\n",
              "      <td>6.000000e+06</td>\n",
              "      <td>5.800000</td>\n",
              "      <td>5.340988e+06</td>\n",
              "    </tr>\n",
              "    <tr>\n",
              "      <th>50%</th>\n",
              "      <td>2005.000000</td>\n",
              "      <td>2.350000</td>\n",
              "      <td>103.000000</td>\n",
              "      <td>103.000000</td>\n",
              "      <td>3090.000000</td>\n",
              "      <td>2.000000e+07</td>\n",
              "      <td>6.600000</td>\n",
              "      <td>2.551750e+07</td>\n",
              "    </tr>\n",
              "    <tr>\n",
              "      <th>75%</th>\n",
              "      <td>2011.000000</td>\n",
              "      <td>2.350000</td>\n",
              "      <td>118.000000</td>\n",
              "      <td>118.000000</td>\n",
              "      <td>13756.500000</td>\n",
              "      <td>4.500000e+07</td>\n",
              "      <td>7.200000</td>\n",
              "      <td>6.230944e+07</td>\n",
              "    </tr>\n",
              "    <tr>\n",
              "      <th>max</th>\n",
              "      <td>2016.000000</td>\n",
              "      <td>16.000000</td>\n",
              "      <td>511.000000</td>\n",
              "      <td>511.000000</td>\n",
              "      <td>656730.000000</td>\n",
              "      <td>1.221550e+10</td>\n",
              "      <td>9.500000</td>\n",
              "      <td>7.605058e+08</td>\n",
              "    </tr>\n",
              "  </tbody>\n",
              "</table>\n",
              "</div>"
            ],
            "text/plain": [
              "        title_year  aspect_ratio     duration   duration.1  \\\n",
              "count  4935.000000   4714.000000  5028.000000  5028.000000   \n",
              "mean   2002.470517      2.220403   107.201074   107.201074   \n",
              "std      12.474599      1.385113    25.197441    25.197441   \n",
              "min    1916.000000      1.180000     7.000000     7.000000   \n",
              "25%    1999.000000      1.850000    93.000000    93.000000   \n",
              "50%    2005.000000      2.350000   103.000000   103.000000   \n",
              "75%    2011.000000      2.350000   118.000000   118.000000   \n",
              "max    2016.000000     16.000000   511.000000   511.000000   \n",
              "\n",
              "       cast_total_facebook_likes        budget   imdb_score         gross  \n",
              "count                5043.000000  4.551000e+03  5043.000000  4.159000e+03  \n",
              "mean                 9699.063851  3.975262e+07     6.442138  4.846841e+07  \n",
              "std                 18163.799124  2.061149e+08     1.125116  6.845299e+07  \n",
              "min                     0.000000  2.180000e+02     1.600000  1.620000e+02  \n",
              "25%                  1411.000000  6.000000e+06     5.800000  5.340988e+06  \n",
              "50%                  3090.000000  2.000000e+07     6.600000  2.551750e+07  \n",
              "75%                 13756.500000  4.500000e+07     7.200000  6.230944e+07  \n",
              "max                656730.000000  1.221550e+10     9.500000  7.605058e+08  "
            ]
          },
          "execution_count": 14,
          "metadata": {},
          "output_type": "execute_result"
        }
      ],
      "source": [
        "movies_num.describe()"
      ]
    },
    {
      "cell_type": "code",
      "execution_count": 15,
      "metadata": {
        "colab": {
          "base_uri": "https://localhost:8080/",
          "height": 1000
        },
        "id": "0S2sGjoY0rW5",
        "outputId": "1d583f86-4218-4b7b-dd7f-ff80624ea2bb"
      },
      "outputs": [
        {
          "data": {
            "text/plain": [
              "array([[<AxesSubplot:title={'center':'title_year'}>,\n",
              "        <AxesSubplot:title={'center':'aspect_ratio'}>,\n",
              "        <AxesSubplot:title={'center':'duration'}>],\n",
              "       [<AxesSubplot:title={'center':'duration.1'}>,\n",
              "        <AxesSubplot:title={'center':'cast_total_facebook_likes'}>,\n",
              "        <AxesSubplot:title={'center':'budget'}>],\n",
              "       [<AxesSubplot:title={'center':'imdb_score'}>,\n",
              "        <AxesSubplot:title={'center':'gross'}>, <AxesSubplot:>]],\n",
              "      dtype=object)"
            ]
          },
          "execution_count": 15,
          "metadata": {},
          "output_type": "execute_result"
        },
        {
          "data": {
            "image/png": "[encoded data removed]",
            "text/plain": [
              "<Figure size 1080x1440 with 9 Axes>"
            ]
          },
          "metadata": {
            "needs_background": "light"
          },
          "output_type": "display_data"
        }
      ],
      "source": [
        "movies_num.hist(bins = 35, figsize = (15,20))"
      ]
    },
    {
      "cell_type": "code",
      "execution_count": 16,
      "metadata": {
        "colab": {
          "base_uri": "https://localhost:8080/"
        },
        "id": "cs_1ot0O3ess",
        "outputId": "a55db9a6-5488-4c54-8f8c-5e1517ed3059"
      },
      "outputs": [
        {
          "data": {
            "text/plain": [
              "False    5037\n",
              "True        6\n",
              "Name: budget, dtype: int64"
            ]
          },
          "execution_count": 16,
          "metadata": {},
          "output_type": "execute_result"
        }
      ],
      "source": [
        "# It sems that there are budget outlayers\n",
        "filter = movies_num['budget'] > 1e9\n",
        "filter.value_counts()"
      ]
    },
    {
      "cell_type": "code",
      "execution_count": 17,
      "metadata": {
        "colab": {
          "base_uri": "https://localhost:8080/",
          "height": 423
        },
        "id": "dznymyCo3eqJ",
        "outputId": "9a1b7ff6-6932-4299-c9e7-7183742bd24d"
      },
      "outputs": [
        {
          "data": {
            "text/html": [
              "<div>\n",
              "<style scoped>\n",
              "    .dataframe tbody tr th:only-of-type {\n",
              "        vertical-align: middle;\n",
              "    }\n",
              "\n",
              "    .dataframe tbody tr th {\n",
              "        vertical-align: top;\n",
              "    }\n",
              "\n",
              "    .dataframe thead th {\n",
              "        text-align: right;\n",
              "    }\n",
              "</style>\n",
              "<table border=\"1\" class=\"dataframe\">\n",
              "  <thead>\n",
              "    <tr style=\"text-align: right;\">\n",
              "      <th></th>\n",
              "      <th>movie_title</th>\n",
              "      <th>title_year</th>\n",
              "      <th>color</th>\n",
              "      <th>aspect_ratio</th>\n",
              "      <th>duration</th>\n",
              "      <th>language</th>\n",
              "      <th>country</th>\n",
              "      <th>duration.1</th>\n",
              "      <th>genres</th>\n",
              "      <th>content_rating</th>\n",
              "      <th>plot_keywords</th>\n",
              "      <th>director_name</th>\n",
              "      <th>actor_1_name</th>\n",
              "      <th>actor_2_name</th>\n",
              "      <th>actor_3_name</th>\n",
              "      <th>cast_total_facebook_likes</th>\n",
              "      <th>budget</th>\n",
              "      <th>imdb_score</th>\n",
              "      <th>gross</th>\n",
              "    </tr>\n",
              "  </thead>\n",
              "  <tbody>\n",
              "    <tr>\n",
              "      <th>2323</th>\n",
              "      <td>Princess Mononoke</td>\n",
              "      <td>1997.0</td>\n",
              "      <td>Color</td>\n",
              "      <td>1.85</td>\n",
              "      <td>134.0</td>\n",
              "      <td>Japanese</td>\n",
              "      <td>Japan</td>\n",
              "      <td>134.0</td>\n",
              "      <td>Adventure|Animation|Fantasy</td>\n",
              "      <td>PG-13</td>\n",
              "      <td>anime|cult film|forest|princess|studio ghibli</td>\n",
              "      <td>Hayao Miyazaki</td>\n",
              "      <td>Minnie Driver</td>\n",
              "      <td>Jada Pinkett Smith</td>\n",
              "      <td>Billy Crudup</td>\n",
              "      <td>2710</td>\n",
              "      <td>2.400000e+09</td>\n",
              "      <td>8.4</td>\n",
              "      <td>2298191.0</td>\n",
              "    </tr>\n",
              "    <tr>\n",
              "      <th>2334</th>\n",
              "      <td>Steamboy</td>\n",
              "      <td>2004.0</td>\n",
              "      <td>Color</td>\n",
              "      <td>1.85</td>\n",
              "      <td>103.0</td>\n",
              "      <td>Japanese</td>\n",
              "      <td>Japan</td>\n",
              "      <td>103.0</td>\n",
              "      <td>Action|Adventure|Animation|Family|Sci-Fi|Thriller</td>\n",
              "      <td>PG-13</td>\n",
              "      <td>19th century|ball|boy|inventor|steam</td>\n",
              "      <td>Katsuhiro Ôtomo</td>\n",
              "      <td>William Hootkins</td>\n",
              "      <td>Robin Atkin Downes</td>\n",
              "      <td>Rosalind Ayres</td>\n",
              "      <td>991</td>\n",
              "      <td>2.127520e+09</td>\n",
              "      <td>6.9</td>\n",
              "      <td>410388.0</td>\n",
              "    </tr>\n",
              "    <tr>\n",
              "      <th>2988</th>\n",
              "      <td>The Host</td>\n",
              "      <td>2006.0</td>\n",
              "      <td>Color</td>\n",
              "      <td>1.85</td>\n",
              "      <td>110.0</td>\n",
              "      <td>Korean</td>\n",
              "      <td>South Korea</td>\n",
              "      <td>110.0</td>\n",
              "      <td>Comedy|Drama|Horror|Sci-Fi</td>\n",
              "      <td>R</td>\n",
              "      <td>daughter|han river|monster|river|seoul</td>\n",
              "      <td>Joon-ho Bong</td>\n",
              "      <td>Doona Bae</td>\n",
              "      <td>Kang-ho Song</td>\n",
              "      <td>Ah-sung Ko</td>\n",
              "      <td>1173</td>\n",
              "      <td>1.221550e+10</td>\n",
              "      <td>7.0</td>\n",
              "      <td>2201412.0</td>\n",
              "    </tr>\n",
              "    <tr>\n",
              "      <th>3005</th>\n",
              "      <td>Fateless</td>\n",
              "      <td>2005.0</td>\n",
              "      <td>Color</td>\n",
              "      <td>2.35</td>\n",
              "      <td>134.0</td>\n",
              "      <td>Hungarian</td>\n",
              "      <td>Hungary</td>\n",
              "      <td>134.0</td>\n",
              "      <td>Drama|Romance|War</td>\n",
              "      <td>R</td>\n",
              "      <td>bus|death|gay slur|hatred|jewish</td>\n",
              "      <td>Lajos Koltai</td>\n",
              "      <td>Marcell Nagy</td>\n",
              "      <td>Péter Fancsikai</td>\n",
              "      <td>Bálint Péntek</td>\n",
              "      <td>11</td>\n",
              "      <td>2.500000e+09</td>\n",
              "      <td>7.1</td>\n",
              "      <td>195888.0</td>\n",
              "    </tr>\n",
              "    <tr>\n",
              "      <th>3423</th>\n",
              "      <td>Akira</td>\n",
              "      <td>1988.0</td>\n",
              "      <td>Color</td>\n",
              "      <td>1.85</td>\n",
              "      <td>124.0</td>\n",
              "      <td>Japanese</td>\n",
              "      <td>Japan</td>\n",
              "      <td>124.0</td>\n",
              "      <td>Action|Animation|Sci-Fi</td>\n",
              "      <td>R</td>\n",
              "      <td>based on manga|biker gang|gifted child|post th...</td>\n",
              "      <td>Katsuhiro Ôtomo</td>\n",
              "      <td>Mitsuo Iwata</td>\n",
              "      <td>Takeshi Kusao</td>\n",
              "      <td>Tesshô Genda</td>\n",
              "      <td>28</td>\n",
              "      <td>1.100000e+09</td>\n",
              "      <td>8.1</td>\n",
              "      <td>439162.0</td>\n",
              "    </tr>\n",
              "    <tr>\n",
              "      <th>3859</th>\n",
              "      <td>Lady Vengeance</td>\n",
              "      <td>2005.0</td>\n",
              "      <td>Color</td>\n",
              "      <td>2.35</td>\n",
              "      <td>112.0</td>\n",
              "      <td>Korean</td>\n",
              "      <td>South Korea</td>\n",
              "      <td>112.0</td>\n",
              "      <td>Crime|Drama</td>\n",
              "      <td>R</td>\n",
              "      <td>cake|christian|lesbian sex|oral sex|pregnant s...</td>\n",
              "      <td>Chan-wook Park</td>\n",
              "      <td>Min-sik Choi</td>\n",
              "      <td>Yeong-ae Lee</td>\n",
              "      <td>Hye-jeong Kang</td>\n",
              "      <td>907</td>\n",
              "      <td>4.200000e+09</td>\n",
              "      <td>7.7</td>\n",
              "      <td>211667.0</td>\n",
              "    </tr>\n",
              "  </tbody>\n",
              "</table>\n",
              "</div>"
            ],
            "text/plain": [
              "             movie_title  title_year  color  aspect_ratio  duration  \\\n",
              "2323  Princess Mononoke       1997.0  Color          1.85     134.0   \n",
              "2334           Steamboy       2004.0  Color          1.85     103.0   \n",
              "2988           The Host       2006.0  Color          1.85     110.0   \n",
              "3005           Fateless       2005.0  Color          2.35     134.0   \n",
              "3423              Akira       1988.0  Color          1.85     124.0   \n",
              "3859     Lady Vengeance       2005.0  Color          2.35     112.0   \n",
              "\n",
              "       language      country  duration.1  \\\n",
              "2323   Japanese        Japan       134.0   \n",
              "2334   Japanese        Japan       103.0   \n",
              "2988     Korean  South Korea       110.0   \n",
              "3005  Hungarian      Hungary       134.0   \n",
              "3423   Japanese        Japan       124.0   \n",
              "3859     Korean  South Korea       112.0   \n",
              "\n",
              "                                                 genres content_rating  \\\n",
              "2323                        Adventure|Animation|Fantasy          PG-13   \n",
              "2334  Action|Adventure|Animation|Family|Sci-Fi|Thriller          PG-13   \n",
              "2988                         Comedy|Drama|Horror|Sci-Fi              R   \n",
              "3005                                  Drama|Romance|War              R   \n",
              "3423                            Action|Animation|Sci-Fi              R   \n",
              "3859                                        Crime|Drama              R   \n",
              "\n",
              "                                          plot_keywords    director_name  \\\n",
              "2323      anime|cult film|forest|princess|studio ghibli   Hayao Miyazaki   \n",
              "2334               19th century|ball|boy|inventor|steam  Katsuhiro Ôtomo   \n",
              "2988             daughter|han river|monster|river|seoul     Joon-ho Bong   \n",
              "3005                   bus|death|gay slur|hatred|jewish     Lajos Koltai   \n",
              "3423  based on manga|biker gang|gifted child|post th...  Katsuhiro Ôtomo   \n",
              "3859  cake|christian|lesbian sex|oral sex|pregnant s...   Chan-wook Park   \n",
              "\n",
              "          actor_1_name        actor_2_name    actor_3_name  \\\n",
              "2323     Minnie Driver  Jada Pinkett Smith    Billy Crudup   \n",
              "2334  William Hootkins  Robin Atkin Downes  Rosalind Ayres   \n",
              "2988         Doona Bae        Kang-ho Song      Ah-sung Ko   \n",
              "3005      Marcell Nagy     Péter Fancsikai   Bálint Péntek   \n",
              "3423      Mitsuo Iwata       Takeshi Kusao    Tesshô Genda   \n",
              "3859      Min-sik Choi        Yeong-ae Lee  Hye-jeong Kang   \n",
              "\n",
              "      cast_total_facebook_likes        budget  imdb_score      gross  \n",
              "2323                       2710  2.400000e+09         8.4  2298191.0  \n",
              "2334                        991  2.127520e+09         6.9   410388.0  \n",
              "2988                       1173  1.221550e+10         7.0  2201412.0  \n",
              "3005                         11  2.500000e+09         7.1   195888.0  \n",
              "3423                         28  1.100000e+09         8.1   439162.0  \n",
              "3859                        907  4.200000e+09         7.7   211667.0  "
            ]
          },
          "execution_count": 17,
          "metadata": {},
          "output_type": "execute_result"
        }
      ],
      "source": [
        "movies[filter]"
      ]
    },
    {
      "cell_type": "code",
      "execution_count": 18,
      "metadata": {
        "id": "QJklun3-3enb"
      },
      "outputs": [],
      "source": [
        "# All of them belong a foreing countries when its currencies are not dollars"
      ]
    },
    {
      "cell_type": "code",
      "execution_count": 19,
      "metadata": {
        "colab": {
          "base_uri": "https://localhost:8080/",
          "height": 424
        },
        "id": "K_UN9CMp6GJn",
        "outputId": "ae73af75-467d-4837-d6de-3a7a5adf093b"
      },
      "outputs": [
        {
          "data": {
            "text/html": [
              "<div>\n",
              "<style scoped>\n",
              "    .dataframe tbody tr th:only-of-type {\n",
              "        vertical-align: middle;\n",
              "    }\n",
              "\n",
              "    .dataframe tbody tr th {\n",
              "        vertical-align: top;\n",
              "    }\n",
              "\n",
              "    .dataframe thead th {\n",
              "        text-align: right;\n",
              "    }\n",
              "</style>\n",
              "<table border=\"1\" class=\"dataframe\">\n",
              "  <thead>\n",
              "    <tr style=\"text-align: right;\">\n",
              "      <th></th>\n",
              "      <th>movie_title</th>\n",
              "      <th>production_budget</th>\n",
              "      <th>worldwide_gross</th>\n",
              "    </tr>\n",
              "  </thead>\n",
              "  <tbody>\n",
              "    <tr>\n",
              "      <th>0</th>\n",
              "      <td>Avatar</td>\n",
              "      <td>425000000</td>\n",
              "      <td>2783918982</td>\n",
              "    </tr>\n",
              "    <tr>\n",
              "      <th>1</th>\n",
              "      <td>Star Wars: Episode VII - The Force Awakens    ...</td>\n",
              "      <td>306000000</td>\n",
              "      <td>2058662225</td>\n",
              "    </tr>\n",
              "    <tr>\n",
              "      <th>2</th>\n",
              "      <td>Pirates of the Caribbean: At World's End</td>\n",
              "      <td>300000000</td>\n",
              "      <td>963420425</td>\n",
              "    </tr>\n",
              "    <tr>\n",
              "      <th>3</th>\n",
              "      <td>Spectre</td>\n",
              "      <td>300000000</td>\n",
              "      <td>879620923</td>\n",
              "    </tr>\n",
              "    <tr>\n",
              "      <th>4</th>\n",
              "      <td>The Dark Knight Rises</td>\n",
              "      <td>275000000</td>\n",
              "      <td>1084439099</td>\n",
              "    </tr>\n",
              "    <tr>\n",
              "      <th>...</th>\n",
              "      <td>...</td>\n",
              "      <td>...</td>\n",
              "      <td>...</td>\n",
              "    </tr>\n",
              "    <tr>\n",
              "      <th>4336</th>\n",
              "      <td>The Mongol King</td>\n",
              "      <td>7000</td>\n",
              "      <td>900</td>\n",
              "    </tr>\n",
              "    <tr>\n",
              "      <th>4337</th>\n",
              "      <td>Signed Sealed Delivered</td>\n",
              "      <td>5000</td>\n",
              "      <td>0</td>\n",
              "    </tr>\n",
              "    <tr>\n",
              "      <th>4338</th>\n",
              "      <td>Shanghai Calling</td>\n",
              "      <td>3967</td>\n",
              "      <td>10443</td>\n",
              "    </tr>\n",
              "    <tr>\n",
              "      <th>4339</th>\n",
              "      <td>A Plague So Pleasant</td>\n",
              "      <td>1400</td>\n",
              "      <td>0</td>\n",
              "    </tr>\n",
              "    <tr>\n",
              "      <th>4340</th>\n",
              "      <td>My Date with Drew</td>\n",
              "      <td>1100</td>\n",
              "      <td>181041</td>\n",
              "    </tr>\n",
              "  </tbody>\n",
              "</table>\n",
              "<p>4341 rows × 3 columns</p>\n",
              "</div>"
            ],
            "text/plain": [
              "                                            movie_title  production_budget  \\\n",
              "0                                               Avatar           425000000   \n",
              "1     Star Wars: Episode VII - The Force Awakens    ...          306000000   \n",
              "2             Pirates of the Caribbean: At World's End           300000000   \n",
              "3                                              Spectre           300000000   \n",
              "4                                The Dark Knight Rises           275000000   \n",
              "...                                                 ...                ...   \n",
              "4336                                   The Mongol King                7000   \n",
              "4337                           Signed Sealed Delivered                5000   \n",
              "4338                                  Shanghai Calling                3967   \n",
              "4339                              A Plague So Pleasant                1400   \n",
              "4340                                 My Date with Drew                1100   \n",
              "\n",
              "      worldwide_gross  \n",
              "0          2783918982  \n",
              "1          2058662225  \n",
              "2           963420425  \n",
              "3           879620923  \n",
              "4          1084439099  \n",
              "...               ...  \n",
              "4336              900  \n",
              "4337                0  \n",
              "4338            10443  \n",
              "4339                0  \n",
              "4340           181041  \n",
              "\n",
              "[4341 rows x 3 columns]"
            ]
          },
          "execution_count": 19,
          "metadata": {},
          "output_type": "execute_result"
        }
      ],
      "source": [
        "# We access a complementing infomation\n",
        "financials = financials[['movie_title', 'production_budget', 'worldwide_gross']]\n",
        "financials"
      ]
    },
    {
      "cell_type": "code",
      "execution_count": 20,
      "metadata": {},
      "outputs": [
        {
          "data": {
            "text/plain": [
              "(4341, 3)"
            ]
          },
          "execution_count": 20,
          "metadata": {},
          "output_type": "execute_result"
        }
      ],
      "source": [
        "financials.shape"
      ]
    },
    {
      "cell_type": "code",
      "execution_count": 21,
      "metadata": {},
      "outputs": [
        {
          "data": {
            "text/plain": [
              "(5043, 19)"
            ]
          },
          "execution_count": 21,
          "metadata": {},
          "output_type": "execute_result"
        }
      ],
      "source": [
        "movies.shape"
      ]
    },
    {
      "cell_type": "code",
      "execution_count": 38,
      "metadata": {},
      "outputs": [],
      "source": [
        "# It's preferen to choose keep only 4341 record; making sure the currencies budget.\n",
        "# To take advantege about the indexes: we can merge atributes.\n",
        "movies_num = pd.concat([movies_num, movies['movie_title']], axis=1)  "
      ]
    },
    {
      "cell_type": "code",
      "execution_count": 39,
      "metadata": {},
      "outputs": [
        {
          "data": {
            "text/html": [
              "<div>\n",
              "<style scoped>\n",
              "    .dataframe tbody tr th:only-of-type {\n",
              "        vertical-align: middle;\n",
              "    }\n",
              "\n",
              "    .dataframe tbody tr th {\n",
              "        vertical-align: top;\n",
              "    }\n",
              "\n",
              "    .dataframe thead th {\n",
              "        text-align: right;\n",
              "    }\n",
              "</style>\n",
              "<table border=\"1\" class=\"dataframe\">\n",
              "  <thead>\n",
              "    <tr style=\"text-align: right;\">\n",
              "      <th></th>\n",
              "      <th>movie_title</th>\n",
              "      <th>production_budget</th>\n",
              "      <th>worldwide_gross</th>\n",
              "      <th>title_year</th>\n",
              "      <th>aspect_ratio</th>\n",
              "      <th>duration</th>\n",
              "      <th>duration.1</th>\n",
              "      <th>cast_total_facebook_likes</th>\n",
              "      <th>budget</th>\n",
              "      <th>imdb_score</th>\n",
              "      <th>gross</th>\n",
              "    </tr>\n",
              "  </thead>\n",
              "  <tbody>\n",
              "    <tr>\n",
              "      <th>0</th>\n",
              "      <td>Avatar</td>\n",
              "      <td>425000000</td>\n",
              "      <td>2783918982</td>\n",
              "      <td>2009.0</td>\n",
              "      <td>1.78</td>\n",
              "      <td>178.0</td>\n",
              "      <td>178.0</td>\n",
              "      <td>4834</td>\n",
              "      <td>237000000.0</td>\n",
              "      <td>7.9</td>\n",
              "      <td>760505847.0</td>\n",
              "    </tr>\n",
              "    <tr>\n",
              "      <th>1</th>\n",
              "      <td>Star Wars: Episode VII - The Force Awakens    ...</td>\n",
              "      <td>306000000</td>\n",
              "      <td>2058662225</td>\n",
              "      <td>NaN</td>\n",
              "      <td>NaN</td>\n",
              "      <td>NaN</td>\n",
              "      <td>NaN</td>\n",
              "      <td>143</td>\n",
              "      <td>NaN</td>\n",
              "      <td>7.1</td>\n",
              "      <td>NaN</td>\n",
              "    </tr>\n",
              "    <tr>\n",
              "      <th>2</th>\n",
              "      <td>Pirates of the Caribbean: At World's End</td>\n",
              "      <td>300000000</td>\n",
              "      <td>963420425</td>\n",
              "      <td>2007.0</td>\n",
              "      <td>2.35</td>\n",
              "      <td>169.0</td>\n",
              "      <td>169.0</td>\n",
              "      <td>48350</td>\n",
              "      <td>300000000.0</td>\n",
              "      <td>7.1</td>\n",
              "      <td>309404152.0</td>\n",
              "    </tr>\n",
              "    <tr>\n",
              "      <th>3</th>\n",
              "      <td>Spectre</td>\n",
              "      <td>300000000</td>\n",
              "      <td>879620923</td>\n",
              "      <td>2015.0</td>\n",
              "      <td>2.35</td>\n",
              "      <td>148.0</td>\n",
              "      <td>148.0</td>\n",
              "      <td>11700</td>\n",
              "      <td>245000000.0</td>\n",
              "      <td>6.8</td>\n",
              "      <td>200074175.0</td>\n",
              "    </tr>\n",
              "    <tr>\n",
              "      <th>4</th>\n",
              "      <td>The Dark Knight Rises</td>\n",
              "      <td>275000000</td>\n",
              "      <td>1084439099</td>\n",
              "      <td>2012.0</td>\n",
              "      <td>2.35</td>\n",
              "      <td>164.0</td>\n",
              "      <td>164.0</td>\n",
              "      <td>106759</td>\n",
              "      <td>250000000.0</td>\n",
              "      <td>8.5</td>\n",
              "      <td>448130642.0</td>\n",
              "    </tr>\n",
              "    <tr>\n",
              "      <th>...</th>\n",
              "      <td>...</td>\n",
              "      <td>...</td>\n",
              "      <td>...</td>\n",
              "      <td>...</td>\n",
              "      <td>...</td>\n",
              "      <td>...</td>\n",
              "      <td>...</td>\n",
              "      <td>...</td>\n",
              "      <td>...</td>\n",
              "      <td>...</td>\n",
              "      <td>...</td>\n",
              "    </tr>\n",
              "    <tr>\n",
              "      <th>4380</th>\n",
              "      <td>The Mongol King</td>\n",
              "      <td>7000</td>\n",
              "      <td>900</td>\n",
              "      <td>2005.0</td>\n",
              "      <td>NaN</td>\n",
              "      <td>84.0</td>\n",
              "      <td>84.0</td>\n",
              "      <td>93</td>\n",
              "      <td>3250.0</td>\n",
              "      <td>7.8</td>\n",
              "      <td>NaN</td>\n",
              "    </tr>\n",
              "    <tr>\n",
              "      <th>4381</th>\n",
              "      <td>Signed Sealed Delivered</td>\n",
              "      <td>5000</td>\n",
              "      <td>0</td>\n",
              "      <td>2013.0</td>\n",
              "      <td>NaN</td>\n",
              "      <td>87.0</td>\n",
              "      <td>87.0</td>\n",
              "      <td>2283</td>\n",
              "      <td>NaN</td>\n",
              "      <td>7.7</td>\n",
              "      <td>NaN</td>\n",
              "    </tr>\n",
              "    <tr>\n",
              "      <th>4382</th>\n",
              "      <td>Shanghai Calling</td>\n",
              "      <td>3967</td>\n",
              "      <td>10443</td>\n",
              "      <td>2012.0</td>\n",
              "      <td>2.35</td>\n",
              "      <td>100.0</td>\n",
              "      <td>100.0</td>\n",
              "      <td>2386</td>\n",
              "      <td>NaN</td>\n",
              "      <td>6.3</td>\n",
              "      <td>10443.0</td>\n",
              "    </tr>\n",
              "    <tr>\n",
              "      <th>4383</th>\n",
              "      <td>A Plague So Pleasant</td>\n",
              "      <td>1400</td>\n",
              "      <td>0</td>\n",
              "      <td>2013.0</td>\n",
              "      <td>NaN</td>\n",
              "      <td>76.0</td>\n",
              "      <td>76.0</td>\n",
              "      <td>0</td>\n",
              "      <td>1400.0</td>\n",
              "      <td>6.3</td>\n",
              "      <td>NaN</td>\n",
              "    </tr>\n",
              "    <tr>\n",
              "      <th>4384</th>\n",
              "      <td>My Date with Drew</td>\n",
              "      <td>1100</td>\n",
              "      <td>181041</td>\n",
              "      <td>2004.0</td>\n",
              "      <td>1.85</td>\n",
              "      <td>90.0</td>\n",
              "      <td>90.0</td>\n",
              "      <td>163</td>\n",
              "      <td>1100.0</td>\n",
              "      <td>6.6</td>\n",
              "      <td>85222.0</td>\n",
              "    </tr>\n",
              "  </tbody>\n",
              "</table>\n",
              "<p>4385 rows × 11 columns</p>\n",
              "</div>"
            ],
            "text/plain": [
              "                                            movie_title  production_budget  \\\n",
              "0                                               Avatar           425000000   \n",
              "1     Star Wars: Episode VII - The Force Awakens    ...          306000000   \n",
              "2             Pirates of the Caribbean: At World's End           300000000   \n",
              "3                                              Spectre           300000000   \n",
              "4                                The Dark Knight Rises           275000000   \n",
              "...                                                 ...                ...   \n",
              "4380                                   The Mongol King                7000   \n",
              "4381                           Signed Sealed Delivered                5000   \n",
              "4382                                  Shanghai Calling                3967   \n",
              "4383                              A Plague So Pleasant                1400   \n",
              "4384                                 My Date with Drew                1100   \n",
              "\n",
              "      worldwide_gross  title_year  aspect_ratio  duration  duration.1  \\\n",
              "0          2783918982      2009.0          1.78     178.0       178.0   \n",
              "1          2058662225         NaN           NaN       NaN         NaN   \n",
              "2           963420425      2007.0          2.35     169.0       169.0   \n",
              "3           879620923      2015.0          2.35     148.0       148.0   \n",
              "4          1084439099      2012.0          2.35     164.0       164.0   \n",
              "...               ...         ...           ...       ...         ...   \n",
              "4380              900      2005.0           NaN      84.0        84.0   \n",
              "4381                0      2013.0           NaN      87.0        87.0   \n",
              "4382            10443      2012.0          2.35     100.0       100.0   \n",
              "4383                0      2013.0           NaN      76.0        76.0   \n",
              "4384           181041      2004.0          1.85      90.0        90.0   \n",
              "\n",
              "      cast_total_facebook_likes       budget  imdb_score        gross  \n",
              "0                          4834  237000000.0         7.9  760505847.0  \n",
              "1                           143          NaN         7.1          NaN  \n",
              "2                         48350  300000000.0         7.1  309404152.0  \n",
              "3                         11700  245000000.0         6.8  200074175.0  \n",
              "4                        106759  250000000.0         8.5  448130642.0  \n",
              "...                         ...          ...         ...          ...  \n",
              "4380                         93       3250.0         7.8          NaN  \n",
              "4381                       2283          NaN         7.7          NaN  \n",
              "4382                       2386          NaN         6.3      10443.0  \n",
              "4383                          0       1400.0         6.3          NaN  \n",
              "4384                        163       1100.0         6.6      85222.0  \n",
              "\n",
              "[4385 rows x 11 columns]"
            ]
          },
          "execution_count": 39,
          "metadata": {},
          "output_type": "execute_result"
        }
      ],
      "source": [
        "movies_clean = pd.merge(financials, movies_num, on='movie_title', how='left')\n",
        "movies_clean "
      ]
    },
    {
      "cell_type": "code",
      "execution_count": 40,
      "metadata": {},
      "outputs": [
        {
          "data": {
            "text/plain": [
              "(4385, 11)"
            ]
          },
          "execution_count": 40,
          "metadata": {},
          "output_type": "execute_result"
        }
      ],
      "source": [
        "movies_clean.shape"
      ]
    },
    {
      "cell_type": "code",
      "execution_count": 41,
      "metadata": {},
      "outputs": [],
      "source": [
        "# We'll face the empty atribute records"
      ]
    },
    {
      "cell_type": "code",
      "execution_count": null,
      "metadata": {},
      "outputs": [],
      "source": []
    }
  ],
  "metadata": {
    "colab": {
      "name": "numpy_practice.ipynb",
      "provenance": []
    },
    "interpreter": {
      "hash": "2c45e014133cb92ebf10040718c4690b2fb03d1b950fc3e275e97630573f9f23"
    },
    "kernelspec": {
      "display_name": "Python 3.9.7 64-bit ('base': conda)",
      "language": "python",
      "name": "python3"
    },
    "language_info": {
      "codemirror_mode": {
        "name": "ipython",
        "version": 3
      },
      "file_extension": ".py",
      "mimetype": "text/x-python",
      "name": "python",
      "nbconvert_exporter": "python",
      "pygments_lexer": "ipython3",
      "version": "3.9.7"
    },
    "orig_nbformat": 4
  },
  "nbformat": 4,
  "nbformat_minor": 0
}
