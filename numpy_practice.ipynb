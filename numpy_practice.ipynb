{
 "cells": [
  {
   "cell_type": "code",
   "execution_count": 5,
   "metadata": {},
   "outputs": [],
   "source": [
    "# Just getting libreries\n",
    "import numpy as np\n",
    "import pandas as pd\n",
    "import matplotlib.pyplot as plt\n",
    "import seaborn as sns"
   ]
  },
  {
   "cell_type": "code",
   "execution_count": 6,
   "metadata": {},
   "outputs": [
    {
     "name": "stdout",
     "output_type": "stream",
     "text": [
      "This is the sequence for all numbers under 89 (with module 11) 2 and a rand U[0,1) number [0.56570645]\n",
      "This is the sequence for all numbers under 89 (with module 11) 13 and a rand U[0,1) number [0.94914804]\n",
      "This is the sequence for all numbers under 89 (with module 11) 24 and a rand U[0,1) number [0.35206819]\n",
      "This is the sequence for all numbers under 89 (with module 11) 35 and a rand U[0,1) number [0.3103384]\n",
      "This is the sequence for all numbers under 89 (with module 11) 46 and a rand U[0,1) number [0.4035776]\n",
      "This is the sequence for all numbers under 89 (with module 11) 57 and a rand U[0,1) number [0.71452168]\n",
      "This is the sequence for all numbers under 89 (with module 11) 68 and a rand U[0,1) number [0.9307636]\n",
      "This is the sequence for all numbers under 89 (with module 11) 79 and a rand U[0,1) number [0.95241865]\n"
     ]
    }
   ],
   "source": [
    "# Here we use a simple array and a ran numpy array\n",
    "lst = [x+1 for x in range(89) if x%11 == 1]\n",
    "r_lst = np.random.rand(len(lst),1)\n",
    "for l in lst:\n",
    "    print(\n",
    "        \"This is the sequence for all numbers under 89 (with module 11) {}\".format(l),\n",
    "        \"and a rand U[0,1) number {}\".format(r_lst[lst.index(l)])\n",
    "    )"
   ]
  },
  {
   "cell_type": "code",
   "execution_count": null,
   "metadata": {},
   "outputs": [],
   "source": []
  }
 ],
 "metadata": {
  "interpreter": {
   "hash": "2c45e014133cb92ebf10040718c4690b2fb03d1b950fc3e275e97630573f9f23"
  },
  "kernelspec": {
   "display_name": "Python 3.9.7 64-bit ('base': conda)",
   "language": "python",
   "name": "python3"
  },
  "language_info": {
   "codemirror_mode": {
    "name": "ipython",
    "version": 3
   },
   "file_extension": ".py",
   "mimetype": "text/x-python",
   "name": "python",
   "nbconvert_exporter": "python",
   "pygments_lexer": "ipython3",
   "version": "3.9.7"
  },
  "orig_nbformat": 4
 },
 "nbformat": 4,
 "nbformat_minor": 2
}
